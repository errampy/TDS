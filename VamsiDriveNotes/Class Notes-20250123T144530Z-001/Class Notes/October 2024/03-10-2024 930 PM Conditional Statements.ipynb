{
 "cells": [
  {
   "cell_type": "code",
   "execution_count": 1,
   "id": "0a7b266f-051c-472e-b770-f76d9b28a789",
   "metadata": {},
   "outputs": [
    {
     "name": "stdout",
     "output_type": "stream",
     "text": [
      "hello world\n"
     ]
    }
   ],
   "source": [
    "# Find the given number is even/odd\n"
   ]
  },
  {
   "cell_type": "code",
   "execution_count": 21,
   "id": "f30d68b7-c32e-4fbc-a19d-1b7bb4c47f4b",
   "metadata": {},
   "outputs": [
    {
     "name": "stdin",
     "output_type": "stream",
     "text": [
      "Enter a number 10\n"
     ]
    },
    {
     "name": "stdout",
     "output_type": "stream",
     "text": [
      "even number\n",
      "end of the programme\n"
     ]
    }
   ],
   "source": [
    "n = int(input('Enter a number'))\n",
    "if n%2==0:\n",
    "    print('even number')\n",
    "else:\n",
    "    print('odd number')\n",
    "print('end of the programme')"
   ]
  },
  {
   "cell_type": "code",
   "execution_count": 26,
   "id": "950e57f5-e31e-4bd1-ba73-668cfebfc8aa",
   "metadata": {},
   "outputs": [
    {
     "name": "stdin",
     "output_type": "stream",
     "text": [
      "enter a value 10\n",
      "enter b value 10\n"
     ]
    },
    {
     "name": "stdout",
     "output_type": "stream",
     "text": [
      "both are equal\n"
     ]
    }
   ],
   "source": [
    "a = int(input('enter a value'))\n",
    "b = int(input('enter b value'))\n",
    "if a>b:\n",
    "    print('a is greater')\n",
    "elif b>a:\n",
    "    print\n",
    "else:\n",
    "    print('both are equal')"
   ]
  }
 ],
 "metadata": {
  "kernelspec": {
   "display_name": "Python 3 (ipykernel)",
   "language": "python",
   "name": "python3"
  },
  "language_info": {
   "codemirror_mode": {
    "name": "ipython",
    "version": 3
   },
   "file_extension": ".py",
   "mimetype": "text/x-python",
   "name": "python",
   "nbconvert_exporter": "python",
   "pygments_lexer": "ipython3",
   "version": "3.12.4"
  }
 },
 "nbformat": 4,
 "nbformat_minor": 5
}
