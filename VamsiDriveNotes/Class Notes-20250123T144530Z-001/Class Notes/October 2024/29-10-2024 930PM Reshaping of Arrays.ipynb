{
 "cells": [
  {
   "cell_type": "code",
   "execution_count": 1,
   "id": "79f5cbb9-8bf6-4c22-adf8-d4e4eafae884",
   "metadata": {},
   "outputs": [],
   "source": [
    "import numpy  as np"
   ]
  },
  {
   "cell_type": "code",
   "execution_count": 2,
   "id": "09c2ee91-439f-4510-afd0-28023010ee69",
   "metadata": {},
   "outputs": [
    {
     "data": {
      "text/plain": [
       "array([ 1,  4,  7, 10, 13, 16, 19, 22, 25, 28, 31, 34, 37, 40, 43, 46, 49])"
      ]
     },
     "execution_count": 2,
     "metadata": {},
     "output_type": "execute_result"
    }
   ],
   "source": [
    "x = np.arange(1,50,3)\n",
    "x"
   ]
  },
  {
   "cell_type": "code",
   "execution_count": 4,
   "id": "f62fba55-3b3a-412a-81fa-de5dc02a3423",
   "metadata": {},
   "outputs": [
    {
     "data": {
      "text/plain": [
       "array([ 1.,  4.,  7., 10., 13., 16., 19., 22., 25., 28., 31., 34., 37.,\n",
       "       40., 43., 46.])"
      ]
     },
     "execution_count": 4,
     "metadata": {},
     "output_type": "execute_result"
    }
   ],
   "source": [
    "y = np.linspace(1,49,16,endpoint=False)\n",
    "y"
   ]
  },
  {
   "cell_type": "code",
   "execution_count": 7,
   "id": "5350ea77-642f-4650-a469-e8da288bf9c3",
   "metadata": {},
   "outputs": [
    {
     "data": {
      "text/plain": [
       "((12,), 1)"
      ]
     },
     "execution_count": 7,
     "metadata": {},
     "output_type": "execute_result"
    }
   ],
   "source": [
    "x = np.arange(1,13)\n",
    "x.shape,x.ndim"
   ]
  },
  {
   "cell_type": "code",
   "execution_count": 9,
   "id": "c1f0d5d8-4c3c-44c6-98d2-f5136f290bfb",
   "metadata": {},
   "outputs": [
    {
     "data": {
      "text/plain": [
       "array([ 1,  2,  3,  4,  5,  6,  7,  8,  9, 10, 11, 12])"
      ]
     },
     "execution_count": 9,
     "metadata": {},
     "output_type": "execute_result"
    }
   ],
   "source": [
    "x"
   ]
  },
  {
   "cell_type": "code",
   "execution_count": 8,
   "id": "7504ee50-31fb-46c1-9f15-a9219652c2e8",
   "metadata": {},
   "outputs": [
    {
     "data": {
      "text/plain": [
       "array([[ 1,  2,  3],\n",
       "       [ 4,  5,  6],\n",
       "       [ 7,  8,  9],\n",
       "       [10, 11, 12]])"
      ]
     },
     "execution_count": 8,
     "metadata": {},
     "output_type": "execute_result"
    }
   ],
   "source": [
    "x1 = x.reshape(4,3)\n",
    "x1"
   ]
  },
  {
   "cell_type": "code",
   "execution_count": 10,
   "id": "1af8518e-e065-4e22-930f-8b1c32697a43",
   "metadata": {},
   "outputs": [
    {
     "data": {
      "text/plain": [
       "array([[ 1,  2,  3,  4],\n",
       "       [ 5,  6,  7,  8],\n",
       "       [ 9, 10, 11, 12]])"
      ]
     },
     "execution_count": 10,
     "metadata": {},
     "output_type": "execute_result"
    }
   ],
   "source": [
    "x2 = x1.reshape(3,4)\n",
    "x2"
   ]
  },
  {
   "cell_type": "code",
   "execution_count": 12,
   "id": "d4b1bfff-79e1-44a7-8b04-9d4fdbcba856",
   "metadata": {},
   "outputs": [
    {
     "data": {
      "text/plain": [
       "array([[ 1,  2],\n",
       "       [ 3,  4],\n",
       "       [ 5,  6],\n",
       "       [ 7,  8],\n",
       "       [ 9, 10],\n",
       "       [11, 12]])"
      ]
     },
     "execution_count": 12,
     "metadata": {},
     "output_type": "execute_result"
    }
   ],
   "source": [
    "x3 = x2.reshape(6,2)\n",
    "x3"
   ]
  },
  {
   "cell_type": "code",
   "execution_count": 13,
   "id": "a9d31208-adf6-4f0c-8e01-4be433d8923c",
   "metadata": {},
   "outputs": [
    {
     "data": {
      "text/plain": [
       "array([[ 1,  2,  3,  4,  5,  6],\n",
       "       [ 7,  8,  9, 10, 11, 12]])"
      ]
     },
     "execution_count": 13,
     "metadata": {},
     "output_type": "execute_result"
    }
   ],
   "source": [
    "x4= x2.reshape(2,6)\n",
    "x4"
   ]
  },
  {
   "cell_type": "code",
   "execution_count": 21,
   "id": "33e3cd2b-9724-4ec7-b754-b235c5d47617",
   "metadata": {},
   "outputs": [
    {
     "data": {
      "text/plain": [
       "array([[52, 53, 54],\n",
       "       [55, 56, 57],\n",
       "       [58, 59, 60],\n",
       "       [61, 62, 63],\n",
       "       [64, 65, 66],\n",
       "       [67, 68, 69],\n",
       "       [70, 71, 72],\n",
       "       [73, 74, 75]])"
      ]
     },
     "execution_count": 21,
     "metadata": {},
     "output_type": "execute_result"
    }
   ],
   "source": [
    "x5 = np.arange(52,76).reshape(8,3)\n",
    "x5"
   ]
  },
  {
   "cell_type": "code",
   "execution_count": 30,
   "id": "09d8f8f3-2c9b-484a-b65b-29df6ea2c603",
   "metadata": {},
   "outputs": [
    {
     "data": {
      "text/plain": [
       "array([[ 50.        ,  52.17391304],\n",
       "       [ 54.34782609,  56.52173913],\n",
       "       [ 58.69565217,  60.86956522],\n",
       "       [ 63.04347826,  65.2173913 ],\n",
       "       [ 67.39130435,  69.56521739],\n",
       "       [ 71.73913043,  73.91304348],\n",
       "       [ 76.08695652,  78.26086957],\n",
       "       [ 80.43478261,  82.60869565],\n",
       "       [ 84.7826087 ,  86.95652174],\n",
       "       [ 89.13043478,  91.30434783],\n",
       "       [ 93.47826087,  95.65217391],\n",
       "       [ 97.82608696, 100.        ]])"
      ]
     },
     "execution_count": 30,
     "metadata": {},
     "output_type": "execute_result"
    }
   ],
   "source": [
    "x6 = np.linspace(50,100,24).reshape(12,2)\n",
    "x6"
   ]
  },
  {
   "cell_type": "code",
   "execution_count": 49,
   "id": "528bc209-545f-4619-84fb-db200eec2468",
   "metadata": {},
   "outputs": [
    {
     "data": {
      "text/plain": [
       "((3, 5), 2)"
      ]
     },
     "execution_count": 49,
     "metadata": {},
     "output_type": "execute_result"
    }
   ],
   "source": [
    "x=np.array([[80,89,60,78,90],[65,79,90,82,88],[90,92,94,91,85]])\n",
    "x.shape,x.ndim"
   ]
  },
  {
   "cell_type": "code",
   "execution_count": 55,
   "id": "8db43fa9-6693-4a5f-b15a-7a9e8fcce1b8",
   "metadata": {},
   "outputs": [
    {
     "data": {
      "text/plain": [
       "array([[80, 89, 60],\n",
       "       [78, 90, 65],\n",
       "       [79, 90, 82],\n",
       "       [88, 90, 92],\n",
       "       [94, 91, 85]])"
      ]
     },
     "execution_count": 55,
     "metadata": {},
     "output_type": "execute_result"
    }
   ],
   "source": [
    "x=x.reshape(5,3)\n",
    "x"
   ]
  },
  {
   "cell_type": "code",
   "execution_count": 43,
   "id": "a8408dd6-6524-42ae-94aa-f63acd2fa4cf",
   "metadata": {},
   "outputs": [
    {
     "data": {
      "text/plain": [
       "((5, 3), 2)"
      ]
     },
     "execution_count": 43,
     "metadata": {},
     "output_type": "execute_result"
    }
   ],
   "source": [
    "x.shape,x.ndim"
   ]
  },
  {
   "cell_type": "code",
   "execution_count": 47,
   "id": "6dc40582-574e-4a7b-9234-ca16ef1c8891",
   "metadata": {},
   "outputs": [
    {
     "data": {
      "text/plain": [
       "array([[0, 0, 0, 0, 0, 0, 0, 0, 0, 0],\n",
       "       [0, 0, 0, 0, 0, 0, 0, 0, 0, 0],\n",
       "       [0, 0, 0, 0, 0, 0, 0, 0, 0, 0],\n",
       "       [0, 0, 0, 0, 0, 0, 0, 0, 0, 0],\n",
       "       [0, 0, 0, 0, 0, 0, 0, 0, 0, 0],\n",
       "       [0, 0, 0, 0, 0, 0, 0, 0, 0, 0],\n",
       "       [0, 0, 0, 0, 0, 0, 0, 0, 0, 0],\n",
       "       [0, 0, 0, 0, 0, 0, 0, 0, 0, 0],\n",
       "       [0, 0, 0, 0, 0, 0, 0, 0, 0, 0],\n",
       "       [0, 0, 0, 0, 0, 0, 0, 0, 0, 0]])"
      ]
     },
     "execution_count": 47,
     "metadata": {},
     "output_type": "execute_result"
    }
   ],
   "source": [
    "zero_array = np.zeros((10,10),dtype='int32')\n",
    "zero_array"
   ]
  },
  {
   "cell_type": "code",
   "execution_count": 59,
   "id": "dacc9a08-ad30-4b4b-9bdb-2b94d1e4ec3e",
   "metadata": {},
   "outputs": [
    {
     "data": {
      "text/plain": [
       "array([[0., 0., 0., 0., 0.],\n",
       "       [0., 0., 0., 0., 0.],\n",
       "       [0., 0., 0., 0., 0.],\n",
       "       [0., 0., 0., 0., 0.],\n",
       "       [0., 0., 0., 0., 0.],\n",
       "       [0., 0., 0., 0., 0.],\n",
       "       [0., 0., 0., 0., 0.],\n",
       "       [0., 0., 0., 0., 0.],\n",
       "       [0., 0., 0., 0., 0.],\n",
       "       [0., 0., 0., 0., 0.]])"
      ]
     },
     "execution_count": 59,
     "metadata": {},
     "output_type": "execute_result"
    }
   ],
   "source": [
    "zero_array = np.zeros_like(a)\n",
    "zero_array"
   ]
  },
  {
   "cell_type": "code",
   "execution_count": 63,
   "id": "efe4aa8c-bb6e-48dc-92e1-1ab1abee4afa",
   "metadata": {},
   "outputs": [
    {
     "data": {
      "text/plain": [
       "array([[20, 20, 20, 20, 20, 20, 20, 20],\n",
       "       [20, 20, 20, 20, 20, 20, 20, 20],\n",
       "       [20, 20, 20, 20, 20, 20, 20, 20],\n",
       "       [20, 20, 20, 20, 20, 20, 20, 20],\n",
       "       [20, 20, 20, 20, 20, 20, 20, 20]])"
      ]
     },
     "execution_count": 63,
     "metadata": {},
     "output_type": "execute_result"
    }
   ],
   "source": [
    "ones_array = np.ones((5,8),dtype='int32')*20\n",
    "ones_array"
   ]
  },
  {
   "cell_type": "code",
   "execution_count": 58,
   "id": "b84cc848-e634-40e1-a779-df535b8b6c55",
   "metadata": {},
   "outputs": [
    {
     "data": {
      "text/plain": [
       "array([[1., 1., 1., 1., 1.],\n",
       "       [1., 1., 1., 1., 1.],\n",
       "       [1., 1., 1., 1., 1.],\n",
       "       [1., 1., 1., 1., 1.],\n",
       "       [1., 1., 1., 1., 1.],\n",
       "       [1., 1., 1., 1., 1.],\n",
       "       [1., 1., 1., 1., 1.],\n",
       "       [1., 1., 1., 1., 1.],\n",
       "       [1., 1., 1., 1., 1.],\n",
       "       [1., 1., 1., 1., 1.]])"
      ]
     },
     "execution_count": 58,
     "metadata": {},
     "output_type": "execute_result"
    }
   ],
   "source": [
    "ones_array = np.ones_like(a)\n",
    "ones_array"
   ]
  },
  {
   "cell_type": "code",
   "execution_count": 57,
   "id": "b35531f1-d456-45b6-8259-f6658ad3034b",
   "metadata": {},
   "outputs": [
    {
     "data": {
      "text/plain": [
       "array([[ 1.        ,  1.18367347,  1.36734694,  1.55102041,  1.73469388],\n",
       "       [ 1.91836735,  2.10204082,  2.28571429,  2.46938776,  2.65306122],\n",
       "       [ 2.83673469,  3.02040816,  3.20408163,  3.3877551 ,  3.57142857],\n",
       "       [ 3.75510204,  3.93877551,  4.12244898,  4.30612245,  4.48979592],\n",
       "       [ 4.67346939,  4.85714286,  5.04081633,  5.2244898 ,  5.40816327],\n",
       "       [ 5.59183673,  5.7755102 ,  5.95918367,  6.14285714,  6.32653061],\n",
       "       [ 6.51020408,  6.69387755,  6.87755102,  7.06122449,  7.24489796],\n",
       "       [ 7.42857143,  7.6122449 ,  7.79591837,  7.97959184,  8.16326531],\n",
       "       [ 8.34693878,  8.53061224,  8.71428571,  8.89795918,  9.08163265],\n",
       "       [ 9.26530612,  9.44897959,  9.63265306,  9.81632653, 10.        ]])"
      ]
     },
     "execution_count": 57,
     "metadata": {},
     "output_type": "execute_result"
    }
   ],
   "source": [
    "a = np.linspace(1,10,50).reshape(10,5)\n",
    "a"
   ]
  },
  {
   "cell_type": "code",
   "execution_count": 68,
   "id": "3feb325f-1710-4f92-b5bf-589f88449f66",
   "metadata": {},
   "outputs": [
    {
     "data": {
      "text/plain": [
       "array([ 1,  2,  3,  4,  5,  6,  7,  8,  9, 10])"
      ]
     },
     "execution_count": 68,
     "metadata": {},
     "output_type": "execute_result"
    }
   ],
   "source": [
    "np.linspace(1,10,10,dtype='int32')"
   ]
  },
  {
   "cell_type": "code",
   "execution_count": 69,
   "id": "df2b56ef-3421-4bce-a35a-96649c2b5e16",
   "metadata": {},
   "outputs": [
    {
     "data": {
      "text/plain": [
       "array([[1., 0., 0., 0., 0.],\n",
       "       [0., 1., 0., 0., 0.],\n",
       "       [0., 0., 1., 0., 0.],\n",
       "       [0., 0., 0., 1., 0.],\n",
       "       [0., 0., 0., 0., 1.]])"
      ]
     },
     "execution_count": 69,
     "metadata": {},
     "output_type": "execute_result"
    }
   ],
   "source": [
    "I = np.identity(5)"
   ]
  }
 ],
 "metadata": {
  "kernelspec": {
   "display_name": "Python 3 (ipykernel)",
   "language": "python",
   "name": "python3"
  },
  "language_info": {
   "codemirror_mode": {
    "name": "ipython",
    "version": 3
   },
   "file_extension": ".py",
   "mimetype": "text/x-python",
   "name": "python",
   "nbconvert_exporter": "python",
   "pygments_lexer": "ipython3",
   "version": "3.12.4"
  }
 },
 "nbformat": 4,
 "nbformat_minor": 5
}
