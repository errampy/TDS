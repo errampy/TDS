{
 "cells": [
  {
   "cell_type": "code",
   "execution_count": 1,
   "id": "84721ba6-09a0-40aa-9888-bd32c00475a4",
   "metadata": {},
   "outputs": [],
   "source": [
    "import numpy as np\n"
   ]
  },
  {
   "cell_type": "code",
   "execution_count": 2,
   "id": "7e1a6166-0e47-43d2-896b-5e5ca6278d21",
   "metadata": {},
   "outputs": [
    {
     "data": {
      "text/plain": [
       "numpy.ndarray"
      ]
     },
     "execution_count": 2,
     "metadata": {},
     "output_type": "execute_result"
    }
   ],
   "source": [
    "x = np.array([10,20,30,40,50])\n",
    "type(x)"
   ]
  },
  {
   "cell_type": "code",
   "execution_count": 4,
   "id": "1f23b183-8cb5-4d2c-bbc7-560823cd10d6",
   "metadata": {},
   "outputs": [
    {
     "data": {
      "text/plain": [
       "(array([20, 30, 40, 50, 60]),\n",
       " array([ 0, 10, 20, 30, 40]),\n",
       " array([100, 200, 300, 400, 500]),\n",
       " array([ 3.33333333,  6.66666667, 10.        , 13.33333333, 16.66666667]),\n",
       " array([ 3,  6, 10, 13, 16], dtype=int32),\n",
       " array([1, 2, 0, 1, 2], dtype=int32),\n",
       " array([  1000,   8000,  27000,  64000, 125000], dtype=int32))"
      ]
     },
     "execution_count": 4,
     "metadata": {},
     "output_type": "execute_result"
    }
   ],
   "source": [
    "x+10,x-10,x*10,x/3,x//3,x%3,x**3"
   ]
  },
  {
   "cell_type": "code",
   "execution_count": 12,
   "id": "e7d4c6d9-4292-4a2d-9e66-770df8f81507",
   "metadata": {},
   "outputs": [
    {
     "data": {
      "text/plain": [
       "(array([1.        , 1.30103   , 1.47712125, 1.60205999, 1.69897   ]),\n",
       " array([2.30258509, 2.99573227, 3.40119738, 3.68887945, 3.91202301]),\n",
       " array([3.16227766, 4.47213595, 5.47722558, 6.32455532, 7.07106781]))"
      ]
     },
     "execution_count": 12,
     "metadata": {},
     "output_type": "execute_result"
    }
   ],
   "source": [
    "np.log10(x),np.log(x),np.sqrt(x)"
   ]
  },
  {
   "cell_type": "code",
   "execution_count": 21,
   "id": "df7999e3-703a-420e-a89b-0ec3a6cb75de",
   "metadata": {},
   "outputs": [
    {
     "data": {
      "text/plain": [
       "array([10, 20, 30, 40, 50])"
      ]
     },
     "execution_count": 21,
     "metadata": {},
     "output_type": "execute_result"
    }
   ],
   "source": [
    "x=np.array([10,20,30,40.5,50],dtype='int32')\n",
    "x"
   ]
  },
  {
   "cell_type": "code",
   "execution_count": 22,
   "id": "9878d1bd-7c3e-4532-a0f6-7f20853c13bf",
   "metadata": {},
   "outputs": [
    {
     "data": {
      "text/plain": [
       "(1, (5,), dtype('int32'), 4)"
      ]
     },
     "execution_count": 22,
     "metadata": {},
     "output_type": "execute_result"
    }
   ],
   "source": [
    "x.ndim,x.shape,x.dtype,x.itemsize"
   ]
  },
  {
   "cell_type": "code",
   "execution_count": 28,
   "id": "9130039b-f72f-47b2-a8b2-3f5594841e14",
   "metadata": {},
   "outputs": [
    {
     "data": {
      "text/plain": [
       "(1, (5,))"
      ]
     },
     "execution_count": 28,
     "metadata": {},
     "output_type": "execute_result"
    }
   ],
   "source": [
    "maths = np.array([83,80,94,90,85])\n",
    "physics = np.array([85,80,82,95,91])\n",
    "chemistry = np.array([85,80,75,84,95])\n",
    "maths.ndim,maths.shape"
   ]
  },
  {
   "cell_type": "code",
   "execution_count": null,
   "id": "2a582ebb-b310-4eab-b51f-05335e5899b1",
   "metadata": {},
   "outputs": [],
   "source": []
  },
  {
   "cell_type": "code",
   "execution_count": 27,
   "id": "44e35893-5a57-412d-87ae-82205b05a6d7",
   "metadata": {},
   "outputs": [
    {
     "data": {
      "text/plain": [
       "array([[83, 80, 94, 90, 85],\n",
       "       [85, 80, 82, 95, 91],\n",
       "       [85, 80, 75, 84, 95]])"
      ]
     },
     "execution_count": 27,
     "metadata": {},
     "output_type": "execute_result"
    }
   ],
   "source": [
    "marks  = np.array([[83,80,94,90,85],[85,80,82,95,91],[85,80,75,84,95]])\n",
    "marks"
   ]
  },
  {
   "cell_type": "code",
   "execution_count": 30,
   "id": "deef6782-ffa2-4db2-8fe6-8d524c1f21e0",
   "metadata": {},
   "outputs": [
    {
     "data": {
      "text/plain": [
       "((3, 5), 2)"
      ]
     },
     "execution_count": 30,
     "metadata": {},
     "output_type": "execute_result"
    }
   ],
   "source": [
    "marks.shape,marks.ndim"
   ]
  },
  {
   "cell_type": "code",
   "execution_count": 31,
   "id": "774c8ac3-f0a0-498b-9b01-2673c7f9db9d",
   "metadata": {},
   "outputs": [
    {
     "data": {
      "text/plain": [
       "array([[ 1,  2,  3],\n",
       "       [ 4,  5,  6],\n",
       "       [ 7,  8,  9],\n",
       "       [10, 11, 12],\n",
       "       [13, 14, 15]])"
      ]
     },
     "execution_count": 31,
     "metadata": {},
     "output_type": "execute_result"
    }
   ],
   "source": [
    "#create a 5,3 dimmension array \n",
    "\n",
    "y= np.array([[1,2,3],[4,5,6],[7,8,9],[10,11,12],[13,14,15]])\n",
    "y"
   ]
  },
  {
   "cell_type": "code",
   "execution_count": 35,
   "id": "7d7c395b-ba6d-4de4-80b9-3915b810f920",
   "metadata": {},
   "outputs": [
    {
     "data": {
      "text/plain": [
       "(2, (5, 3), dtype('int32'), 4)"
      ]
     },
     "execution_count": 35,
     "metadata": {},
     "output_type": "execute_result"
    }
   ],
   "source": [
    "y.ndim,y.shape,y.dtype,y.itemsize"
   ]
  },
  {
   "cell_type": "code",
   "execution_count": 41,
   "id": "856786f6-a118-4780-ada1-21b987433158",
   "metadata": {},
   "outputs": [
    {
     "data": {
      "text/plain": [
       "array([[56, 45, 23, 12, 67, 60],\n",
       "       [70, 80, 34, 55, 66, 77]])"
      ]
     },
     "execution_count": 41,
     "metadata": {},
     "output_type": "execute_result"
    }
   ],
   "source": [
    "z = np.array([[56,45,23,12,67,60],[70,80,34,55,66,77]])\n",
    "z"
   ]
  },
  {
   "cell_type": "code",
   "execution_count": 42,
   "id": "dcd5eed9-7540-40e1-8b2f-7aaeb876c9b9",
   "metadata": {},
   "outputs": [
    {
     "data": {
      "text/plain": [
       "(2, 6)"
      ]
     },
     "execution_count": 42,
     "metadata": {},
     "output_type": "execute_result"
    }
   ],
   "source": [
    "z.shape"
   ]
  }
 ],
 "metadata": {
  "kernelspec": {
   "display_name": "Python 3 (ipykernel)",
   "language": "python",
   "name": "python3"
  },
  "language_info": {
   "codemirror_mode": {
    "name": "ipython",
    "version": 3
   },
   "file_extension": ".py",
   "mimetype": "text/x-python",
   "name": "python",
   "nbconvert_exporter": "python",
   "pygments_lexer": "ipython3",
   "version": "3.12.4"
  }
 },
 "nbformat": 4,
 "nbformat_minor": 5
}
