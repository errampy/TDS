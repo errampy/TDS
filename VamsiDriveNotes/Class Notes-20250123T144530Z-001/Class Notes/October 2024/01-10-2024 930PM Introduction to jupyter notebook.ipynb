{
 "cells": [
  {
   "cell_type": "code",
   "execution_count": 64,
   "id": "67c06485-63f2-4fb0-8d4f-417925273d36",
   "metadata": {},
   "outputs": [
    {
     "name": "stdout",
     "output_type": "stream",
     "text": [
      "{40, 10, 20, 30} <class 'set'>\n"
     ]
    }
   ],
   "source": [
    "s2 ={30,20,10,10,20,30,40,40,30,30,20,10,20}\n",
    "print(s2,type(s2))"
   ]
  },
  {
   "cell_type": "code",
   "execution_count": 66,
   "id": "a310beda-71b6-46d2-9346-d4da1eb70722",
   "metadata": {},
   "outputs": [
    {
     "name": "stdout",
     "output_type": "stream",
     "text": [
      "{10, 20, 30}\n",
      "{40, 10, 50, 20, 30}\n",
      "{50}\n",
      "{40}\n",
      "False\n",
      "False\n",
      "{40, 50}\n"
     ]
    }
   ],
   "source": [
    "print(s1.intersection(s2))\n",
    "print(s1.union(s2))\n",
    "print(s1.difference(s2))\n",
    "print(s2.difference(s1))\n",
    "print(s1.issubset(s2))\n",
    "print(s1.isdisjoint(s2))\n",
    "print(s1.symmetric_difference(s2))"
   ]
  },
  {
   "cell_type": "code",
   "execution_count": 62,
   "id": "006c083a-869c-4cb5-992c-479c4ec826c1",
   "metadata": {},
   "outputs": [
    {
     "name": "stdout",
     "output_type": "stream",
     "text": [
      "10\n"
     ]
    }
   ],
   "source": [
    "print(a)"
   ]
  }
 ],
 "metadata": {
  "kernelspec": {
   "display_name": "Python 3 (ipykernel)",
   "language": "python",
   "name": "python3"
  },
  "language_info": {
   "codemirror_mode": {
    "name": "ipython",
    "version": 3
   },
   "file_extension": ".py",
   "mimetype": "text/x-python",
   "name": "python",
   "nbconvert_exporter": "python",
   "pygments_lexer": "ipython3",
   "version": "3.12.4"
  }
 },
 "nbformat": 4,
 "nbformat_minor": 5
}
