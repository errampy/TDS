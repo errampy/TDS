{
 "cells": [
  {
   "cell_type": "code",
   "execution_count": 1,
   "id": "a477d068-7c41-4790-aa00-9e82409a5da4",
   "metadata": {},
   "outputs": [
    {
     "ename": "TypeError",
     "evalue": "unsupported operand type(s) for ** or pow(): 'list' and 'int'",
     "output_type": "error",
     "traceback": [
      "\u001b[1;31m---------------------------------------------------------------------------\u001b[0m",
      "\u001b[1;31mTypeError\u001b[0m                                 Traceback (most recent call last)",
      "Cell \u001b[1;32mIn[1], line 2\u001b[0m\n\u001b[0;32m      1\u001b[0m x\u001b[38;5;241m=\u001b[39m[\u001b[38;5;241m1\u001b[39m,\u001b[38;5;241m2\u001b[39m,\u001b[38;5;241m3\u001b[39m,\u001b[38;5;241m4\u001b[39m,\u001b[38;5;241m5\u001b[39m]\n\u001b[1;32m----> 2\u001b[0m x\u001b[38;5;241m*\u001b[39m\u001b[38;5;241m*\u001b[39m\u001b[38;5;241m2\u001b[39m\n",
      "\u001b[1;31mTypeError\u001b[0m: unsupported operand type(s) for ** or pow(): 'list' and 'int'"
     ]
    }
   ],
   "source": [
    "x=[1,2,3,4,5]\n",
    "x**2\n"
   ]
  },
  {
   "cell_type": "code",
   "execution_count": 9,
   "id": "04a8aa76-aa22-4fde-ac64-285b3f176122",
   "metadata": {},
   "outputs": [
    {
     "name": "stdout",
     "output_type": "stream",
     "text": [
      "[25, 576, 1296, 484, 256, 1225, 3025, 6724, 3364, 1296, 529, 1681, 3249, 961, 25]\n"
     ]
    }
   ],
   "source": [
    "x=[5,24,36,22,16,35,55,82,58,36,23,41,57,31,5]\n",
    "y=[]\n",
    "for i in x:\n",
    "    y.append(i**2)\n",
    "print(y)"
   ]
  },
  {
   "cell_type": "code",
   "execution_count": 10,
   "id": "6c941885-60e7-4d78-a024-36759365baf4",
   "metadata": {},
   "outputs": [
    {
     "name": "stdout",
     "output_type": "stream",
     "text": [
      "[25, 576, 1296, 484, 256, 1225, 3025, 6724, 3364, 1296, 529, 1681, 3249, 961, 25] <class 'list'>\n"
     ]
    }
   ],
   "source": [
    "y = [i**2 for i in x]\n",
    "print(y,type(y))"
   ]
  },
  {
   "cell_type": "code",
   "execution_count": 11,
   "id": "e9fcacca-93a8-46e8-9b1d-f7fe768621bf",
   "metadata": {},
   "outputs": [
    {
     "name": "stdout",
     "output_type": "stream",
     "text": [
      "{576, 256, 961, 484, 6724, 3364, 1225, 1296, 3025, 529, 1681, 3249, 25} <class 'set'>\n"
     ]
    }
   ],
   "source": [
    "y = {i**2 for i in x}\n",
    "print(y,type(y))"
   ]
  },
  {
   "cell_type": "code",
   "execution_count": 13,
   "id": "ba9173b5-a827-4c88-a825-d2c3a351ce5a",
   "metadata": {},
   "outputs": [
    {
     "name": "stdout",
     "output_type": "stream",
     "text": [
      "{5: 25, 24: 576, 36: 1296, 22: 484, 16: 256, 35: 1225, 55: 3025, 82: 6724, 58: 3364, 23: 529, 41: 1681, 57: 3249, 31: 961} <class 'dict'>\n"
     ]
    }
   ],
   "source": [
    "y = {i:i**2 for i in x}\n",
    "print(y,type(y))"
   ]
  },
  {
   "cell_type": "code",
   "execution_count": 15,
   "id": "0596c44d-2a50-432b-9293-98f565a1b6db",
   "metadata": {},
   "outputs": [
    {
     "name": "stdout",
     "output_type": "stream",
     "text": [
      "<class 'generator'>\n"
     ]
    }
   ],
   "source": [
    "y = (i**2 for i in x)\n",
    "print(type(y))"
   ]
  }
 ],
 "metadata": {
  "kernelspec": {
   "display_name": "Python 3 (ipykernel)",
   "language": "python",
   "name": "python3"
  },
  "language_info": {
   "codemirror_mode": {
    "name": "ipython",
    "version": 3
   },
   "file_extension": ".py",
   "mimetype": "text/x-python",
   "name": "python",
   "nbconvert_exporter": "python",
   "pygments_lexer": "ipython3",
   "version": "3.12.4"
  }
 },
 "nbformat": 4,
 "nbformat_minor": 5
}
