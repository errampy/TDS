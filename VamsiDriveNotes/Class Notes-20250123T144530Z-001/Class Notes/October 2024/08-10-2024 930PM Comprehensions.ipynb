{
 "cells": [
  {
   "cell_type": "code",
   "execution_count": 1,
   "id": "8ca6d0d8-a9b1-43f9-87ff-7f4d1233cbd7",
   "metadata": {},
   "outputs": [
    {
     "ename": "TypeError",
     "evalue": "unsupported operand type(s) for ** or pow(): 'list' and 'int'",
     "output_type": "error",
     "traceback": [
      "\u001b[1;31m---------------------------------------------------------------------------\u001b[0m",
      "\u001b[1;31mTypeError\u001b[0m                                 Traceback (most recent call last)",
      "Cell \u001b[1;32mIn[1], line 2\u001b[0m\n\u001b[0;32m      1\u001b[0m x\u001b[38;5;241m=\u001b[39m[\u001b[38;5;241m5\u001b[39m,\u001b[38;5;241m2\u001b[39m,\u001b[38;5;241m15\u001b[39m,\u001b[38;5;241m24\u001b[39m,\u001b[38;5;241m33\u001b[39m,\u001b[38;5;241m57\u001b[39m,\u001b[38;5;241m27\u001b[39m,\u001b[38;5;241m80\u001b[39m,\u001b[38;5;241m45\u001b[39m,\u001b[38;5;241m51\u001b[39m,\u001b[38;5;241m31\u001b[39m,\u001b[38;5;241m25\u001b[39m]\n\u001b[1;32m----> 2\u001b[0m x\u001b[38;5;241m*\u001b[39m\u001b[38;5;241m*\u001b[39m\u001b[38;5;241m2\u001b[39m\n",
      "\u001b[1;31mTypeError\u001b[0m: unsupported operand type(s) for ** or pow(): 'list' and 'int'"
     ]
    }
   ],
   "source": [
    "x=[5,2,15,24,33,57,27,80,45,51,31,25]\n",
    "print(x,type(x))"
   ]
  },
  {
   "cell_type": "code",
   "execution_count": 2,
   "id": "ddaf2b64-84ba-4ac9-9761-0a02d5c20411",
   "metadata": {},
   "outputs": [
    {
     "name": "stdout",
     "output_type": "stream",
     "text": [
      "[25, 4, 225, 576, 1089, 3249, 729, 6400, 2025, 2601, 961, 625]\n"
     ]
    }
   ],
   "source": [
    "y=[i**2 for i in x]\n",
    "print(y)"
   ]
  },
  {
   "cell_type": "code",
   "execution_count": 3,
   "id": "8fa52fc8-7dbd-4f61-9853-ed584f308781",
   "metadata": {},
   "outputs": [
    {
     "name": "stdout",
     "output_type": "stream",
     "text": [
      "[4, 576, 6400]\n"
     ]
    }
   ],
   "source": [
    "y=[]\n",
    "for i in x:\n",
    "    if i%2==0:\n",
    "        y.append(i**2)\n",
    "print(y)"
   ]
  },
  {
   "cell_type": "code",
   "execution_count": 6,
   "id": "5d4b7d7a-5a0e-41f5-9d04-8ffe5b7de451",
   "metadata": {},
   "outputs": [
    {
     "name": "stdout",
     "output_type": "stream",
     "text": [
      "[4, 576, 6400]\n"
     ]
    }
   ],
   "source": [
    "y = [i**2 for i in x if i%2==0]\n",
    "print(y)"
   ]
  },
  {
   "cell_type": "code",
   "execution_count": 7,
   "id": "2511a1db-5221-496a-8aca-b03c68afdc63",
   "metadata": {},
   "outputs": [
    {
     "name": "stdout",
     "output_type": "stream",
     "text": [
      "[125, 4, 3375, 576, 35937, 185193, 19683, 6400, 91125, 132651, 29791, 15625]\n"
     ]
    }
   ],
   "source": [
    "y=[]\n",
    "for i in x:\n",
    "    if i%2==0:\n",
    "        y.append(i**2)\n",
    "    else:\n",
    "        y.append(i**3)\n",
    "print(y)"
   ]
  },
  {
   "cell_type": "code",
   "execution_count": 9,
   "id": "f8b3b1d4-2a1a-4806-8a33-e5a74dcabf68",
   "metadata": {},
   "outputs": [
    {
     "data": {
      "text/plain": [
       "{5: 125,\n",
       " 2: 4,\n",
       " 15: 3375,\n",
       " 24: 576,\n",
       " 33: 35937,\n",
       " 57: 185193,\n",
       " 27: 19683,\n",
       " 80: 6400,\n",
       " 45: 91125,\n",
       " 51: 132651,\n",
       " 31: 29791,\n",
       " 25: 15625}"
      ]
     },
     "execution_count": 9,
     "metadata": {},
     "output_type": "execute_result"
    }
   ],
   "source": [
    "y = {i:i**2 if i%2==0 else i**3 for i in x}\n",
    "y"
   ]
  },
  {
   "cell_type": "code",
   "execution_count": 12,
   "id": "d892bee4-f818-4240-82ea-56bcb9445acb",
   "metadata": {},
   "outputs": [
    {
     "name": "stdout",
     "output_type": "stream",
     "text": [
      "WELCOME TO PYTHON TRAINING\n",
      "welcome to python training\n",
      "Welcome To Python Training\n",
      "Welcome to python training\n",
      "WeLcoMe To PYtHoN TrAINinG\n"
     ]
    }
   ],
   "source": [
    "s='wElCOmE tO pyThOn tRainINg'\n",
    "print(s.upper())\n",
    "print(s.lower())\n",
    "print(s.title())\n",
    "print(s.capitalize())\n",
    "print(s.swapcase())"
   ]
  },
  {
   "cell_type": "code",
   "execution_count": 13,
   "id": "9e583bad-156b-4bb6-9dc2-b1ae1a526667",
   "metadata": {},
   "outputs": [
    {
     "data": {
      "text/plain": [
       "(True, False, False)"
      ]
     },
     "execution_count": 13,
     "metadata": {},
     "output_type": "execute_result"
    }
   ],
   "source": [
    "a='WELCOME'\n",
    "a.isupper(),a.islower(),a.istitle()"
   ]
  },
  {
   "cell_type": "code",
   "execution_count": 14,
   "id": "cb9a56ab-41fc-4675-a04c-038c070c038c",
   "metadata": {},
   "outputs": [
    {
     "data": {
      "text/plain": [
       "(False, True, False)"
      ]
     },
     "execution_count": 14,
     "metadata": {},
     "output_type": "execute_result"
    }
   ],
   "source": [
    "a='welcome'\n",
    "a.isupper(),a.islower(),a.istitle()"
   ]
  },
  {
   "cell_type": "code",
   "execution_count": 16,
   "id": "dd4c655e-0a1f-42ed-9e67-971fc712d99a",
   "metadata": {},
   "outputs": [
    {
     "data": {
      "text/plain": [
       "(False, False, True)"
      ]
     },
     "execution_count": 16,
     "metadata": {},
     "output_type": "execute_result"
    }
   ],
   "source": [
    "a='Hello World'\n",
    "a.isupper(),a.islower(),a.istitle()"
   ]
  },
  {
   "cell_type": "code",
   "execution_count": null,
   "id": "76a02f99-e2fc-40de-8a55-674a75a77829",
   "metadata": {},
   "outputs": [],
   "source": []
  }
 ],
 "metadata": {
  "kernelspec": {
   "display_name": "Python 3 (ipykernel)",
   "language": "python",
   "name": "python3"
  },
  "language_info": {
   "codemirror_mode": {
    "name": "ipython",
    "version": 3
   },
   "file_extension": ".py",
   "mimetype": "text/x-python",
   "name": "python",
   "nbconvert_exporter": "python",
   "pygments_lexer": "ipython3",
   "version": "3.12.4"
  }
 },
 "nbformat": 4,
 "nbformat_minor": 5
}
