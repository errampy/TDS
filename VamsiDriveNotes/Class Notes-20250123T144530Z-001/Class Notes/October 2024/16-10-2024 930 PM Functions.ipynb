{
 "cells": [
  {
   "cell_type": "code",
   "execution_count": 13,
   "id": "980dce35-105a-4aa9-8b12-c51dfdaa7b21",
   "metadata": {},
   "outputs": [],
   "source": [
    "def addnum1(i=0,j=0,k=0):\n",
    "    return 2*i+3*j+5*k"
   ]
  },
  {
   "cell_type": "code",
   "execution_count": 52,
   "id": "9f5334a8-89f0-4424-b827-c19443c35f91",
   "metadata": {},
   "outputs": [
    {
     "data": {
      "text/plain": [
       "(230, 180, 80, 20, 0, 230, 230)"
      ]
     },
     "execution_count": 52,
     "metadata": {},
     "output_type": "execute_result"
    }
   ],
   "source": [
    "addnum1(10,20,30),addnum1(20,30,10),addnum1(10,20),addnum1(10),addnum1(),addnum1(10,20,30),addnum1(i=10,j=20,k=30)"
   ]
  },
  {
   "cell_type": "code",
   "execution_count": 27,
   "id": "f93dce96-745e-407a-a056-37ae2061bee8",
   "metadata": {},
   "outputs": [],
   "source": [
    "def addnum2(*z):\n",
    "    print(z)\n",
    "    print(type(z))"
   ]
  },
  {
   "cell_type": "code",
   "execution_count": 28,
   "id": "de530b65-8b72-4394-b6c3-4f22b691d56d",
   "metadata": {},
   "outputs": [
    {
     "name": "stdout",
     "output_type": "stream",
     "text": [
      "(10, 20, 30, 40, 50, 60, 70, 80, 90)\n",
      "<class 'tuple'>\n"
     ]
    }
   ],
   "source": [
    "addnum2(10,20,30,40,50,60,70,80,90)"
   ]
  },
  {
   "cell_type": "code",
   "execution_count": 45,
   "id": "6a001d6e-85a2-4fd4-abbc-9e4d7436f04c",
   "metadata": {},
   "outputs": [],
   "source": [
    "def findsum(*args):\n",
    "    t=0\n",
    "    for i in args:\n",
    "        t+=i\n",
    "    return t"
   ]
  },
  {
   "cell_type": "code",
   "execution_count": 33,
   "id": "c330dc48-6ae6-43b5-bd16-5af141e054a7",
   "metadata": {},
   "outputs": [
    {
     "data": {
      "text/plain": [
       "(0, 10, 30, 60, 0)"
      ]
     },
     "execution_count": 33,
     "metadata": {},
     "output_type": "execute_result"
    }
   ],
   "source": [
    "findsum(),findsum(10),findsum(10,20),findsum(10,20,30),findsum(82,23,14,90,54,76-40,43,25,10,75,80,84,55,15,-686)"
   ]
  },
  {
   "cell_type": "code",
   "execution_count": 47,
   "id": "10852aaa-a8de-4d58-bcea-6f658da7200b",
   "metadata": {},
   "outputs": [
    {
     "ename": "TypeError",
     "evalue": "findsum() got an unexpected keyword argument 'args'",
     "output_type": "error",
     "traceback": [
      "\u001b[1;31m---------------------------------------------------------------------------\u001b[0m",
      "\u001b[1;31mTypeError\u001b[0m                                 Traceback (most recent call last)",
      "Cell \u001b[1;32mIn[47], line 1\u001b[0m\n\u001b[1;32m----> 1\u001b[0m findsum(args\u001b[38;5;241m=\u001b[39m\u001b[38;5;241m10\u001b[39m)\n",
      "\u001b[1;31mTypeError\u001b[0m: findsum() got an unexpected keyword argument 'args'"
     ]
    }
   ],
   "source": [
    "findsum(args=10)"
   ]
  },
  {
   "cell_type": "code",
   "execution_count": 34,
   "id": "e7a8c497-9528-470f-a15d-1062131df11b",
   "metadata": {},
   "outputs": [
    {
     "data": {
      "text/plain": [
       "'hello world'"
      ]
     },
     "execution_count": 34,
     "metadata": {},
     "output_type": "execute_result"
    }
   ],
   "source": [
    "x=['hello','world']\n",
    "\" \".join(x)"
   ]
  },
  {
   "cell_type": "code",
   "execution_count": 37,
   "id": "ae1ab191-ac72-4dfd-874f-542943d823dc",
   "metadata": {},
   "outputs": [
    {
     "data": {
      "text/plain": [
       "'hello10'"
      ]
     },
     "execution_count": 37,
     "metadata": {},
     "output_type": "execute_result"
    }
   ],
   "source": [
    "'hello' + str(10)"
   ]
  },
  {
   "cell_type": "code",
   "execution_count": 42,
   "id": "cba10d4e-5a5e-4c3a-8132-8ec3cd5f8aa7",
   "metadata": {},
   "outputs": [],
   "source": [
    "def concat_str(*args):\n",
    "    t=' '\n",
    "    for i in args:\n",
    "        t+=str(i) + ' '\n",
    "    return t.strip()"
   ]
  },
  {
   "cell_type": "code",
   "execution_count": 44,
   "id": "90eecc19-b78c-46dc-a698-d3b9c56a0da9",
   "metadata": {},
   "outputs": [
    {
     "data": {
      "text/plain": [
       "'hello world welcome python training hai hey'"
      ]
     },
     "execution_count": 44,
     "metadata": {},
     "output_type": "execute_result"
    }
   ],
   "source": [
    "concat_str('hello','world','welcome','python','training','hai','hey')"
   ]
  },
  {
   "cell_type": "code",
   "execution_count": 48,
   "id": "b932c1f4-b437-4b6b-98b2-55a534b05c91",
   "metadata": {},
   "outputs": [],
   "source": [
    "def function2(**kwargs):\n",
    "    print(kwargs)\n",
    "    print(type(kwargs))"
   ]
  },
  {
   "cell_type": "code",
   "execution_count": 54,
   "id": "31c509c2-2148-46ed-a9fa-50983c65e209",
   "metadata": {},
   "outputs": [
    {
     "name": "stdout",
     "output_type": "stream",
     "text": [
      "{'a': 10, 'b': 20, 'i': 30, 'x': 40, 'y': 50}\n",
      "<class 'dict'>\n"
     ]
    }
   ],
   "source": [
    "function2(a=10,b=20,i=30,x=40,y=50)"
   ]
  },
  {
   "cell_type": "code",
   "execution_count": 55,
   "id": "1ca5f28e-b7ec-4330-9936-34b27364cf2d",
   "metadata": {},
   "outputs": [],
   "source": []
  }
 ],
 "metadata": {
  "kernelspec": {
   "display_name": "Python 3 (ipykernel)",
   "language": "python",
   "name": "python3"
  },
  "language_info": {
   "codemirror_mode": {
    "name": "ipython",
    "version": 3
   },
   "file_extension": ".py",
   "mimetype": "text/x-python",
   "name": "python",
   "nbconvert_exporter": "python",
   "pygments_lexer": "ipython3",
   "version": "3.12.4"
  }
 },
 "nbformat": 4,
 "nbformat_minor": 5
}
