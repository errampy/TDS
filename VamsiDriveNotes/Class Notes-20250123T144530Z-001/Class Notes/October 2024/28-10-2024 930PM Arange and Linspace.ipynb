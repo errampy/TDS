{
 "cells": [
  {
   "cell_type": "code",
   "execution_count": 1,
   "id": "ad3c10da-8583-4890-b4ab-c6957ff9fa95",
   "metadata": {},
   "outputs": [],
   "source": [
    "import numpy as np"
   ]
  },
  {
   "cell_type": "code",
   "execution_count": 2,
   "id": "2a101727-ed45-4d94-9f32-5be60cb5ae7c",
   "metadata": {},
   "outputs": [
    {
     "data": {
      "text/plain": [
       "array([[1, 2, 3],\n",
       "       [4, 5, 6]])"
      ]
     },
     "execution_count": 2,
     "metadata": {},
     "output_type": "execute_result"
    }
   ],
   "source": [
    "m1 = np.array([[1,2,3],[4,5,6]])\n",
    "m1\n",
    "              "
   ]
  },
  {
   "cell_type": "code",
   "execution_count": 4,
   "id": "dffcde7f-c958-42f2-90ea-ced40ccad309",
   "metadata": {},
   "outputs": [
    {
     "data": {
      "text/plain": [
       "(2, (2, 3))"
      ]
     },
     "execution_count": 4,
     "metadata": {},
     "output_type": "execute_result"
    }
   ],
   "source": [
    "m1.ndim,m1.shape"
   ]
  },
  {
   "cell_type": "code",
   "execution_count": 6,
   "id": "27f1de06-b19d-4c54-8372-37777da06164",
   "metadata": {},
   "outputs": [
    {
     "data": {
      "text/plain": [
       "array([[10, 11, 12],\n",
       "       [13, 14, 15]])"
      ]
     },
     "execution_count": 6,
     "metadata": {},
     "output_type": "execute_result"
    }
   ],
   "source": [
    "m2 = np.array([[10,11,12],[13,14,15]])\n",
    "m2"
   ]
  },
  {
   "cell_type": "code",
   "execution_count": 7,
   "id": "056da3f2-b435-4588-a0a7-4e171c116d5b",
   "metadata": {},
   "outputs": [
    {
     "data": {
      "text/plain": [
       "((2, 3), 2)"
      ]
     },
     "execution_count": 7,
     "metadata": {},
     "output_type": "execute_result"
    }
   ],
   "source": [
    "m2.shape,m2.ndim"
   ]
  },
  {
   "cell_type": "code",
   "execution_count": 14,
   "id": "6687ec1e-717e-4518-a2e4-f845ecebba50",
   "metadata": {},
   "outputs": [
    {
     "data": {
      "text/plain": [
       "(array([[11, 13, 15],\n",
       "        [17, 19, 21]]),\n",
       " array([[-9, -9, -9],\n",
       "        [-9, -9, -9]]),\n",
       " array([[10, 22, 36],\n",
       "        [52, 70, 90]]),\n",
       " array([[0.1       , 0.18181818, 0.25      ],\n",
       "        [0.30769231, 0.35714286, 0.4       ]]),\n",
       " array([[0, 0, 0],\n",
       "        [0, 0, 0]]),\n",
       " array([[         1,       2048,     531441],\n",
       "        [  67108864, 1808548329, 2033549312]]))"
      ]
     },
     "execution_count": 14,
     "metadata": {},
     "output_type": "execute_result"
    }
   ],
   "source": [
    "m1+m2,m1-m2,m1*m2,m1/m2,m1//m2,m1**m2"
   ]
  },
  {
   "cell_type": "code",
   "execution_count": 16,
   "id": "ac78e481-efcf-40f2-8cb4-431759aebc17",
   "metadata": {},
   "outputs": [
    {
     "data": {
      "text/plain": [
       "(2, (2, 3), dtype('int32'), 4)"
      ]
     },
     "execution_count": 16,
     "metadata": {},
     "output_type": "execute_result"
    }
   ],
   "source": [
    "m1.ndim,m1.shape,m1.dtype,m1.itemsize"
   ]
  },
  {
   "cell_type": "code",
   "execution_count": 17,
   "id": "dcd04791-3f9b-4aca-98b4-58ac6bbb4f93",
   "metadata": {},
   "outputs": [
    {
     "ename": "ValueError",
     "evalue": "shapes (2,3) and (2,3) not aligned: 3 (dim 1) != 2 (dim 0)",
     "output_type": "error",
     "traceback": [
      "\u001b[1;31m---------------------------------------------------------------------------\u001b[0m",
      "\u001b[1;31mValueError\u001b[0m                                Traceback (most recent call last)",
      "Cell \u001b[1;32mIn[17], line 1\u001b[0m\n\u001b[1;32m----> 1\u001b[0m m1\u001b[38;5;241m.\u001b[39mdot(m2)\n",
      "\u001b[1;31mValueError\u001b[0m: shapes (2,3) and (2,3) not aligned: 3 (dim 1) != 2 (dim 0)"
     ]
    }
   ],
   "source": [
    "m1.dot(m2)"
   ]
  },
  {
   "cell_type": "code",
   "execution_count": 20,
   "id": "a5ca8041-5e16-44c6-b399-32a4700fa78d",
   "metadata": {},
   "outputs": [
    {
     "data": {
      "text/plain": [
       "array([[1, 2, 3],\n",
       "       [4, 5, 6]])"
      ]
     },
     "execution_count": 20,
     "metadata": {},
     "output_type": "execute_result"
    }
   ],
   "source": [
    "m1"
   ]
  },
  {
   "cell_type": "code",
   "execution_count": 18,
   "id": "d297fbc1-86d5-4f35-8725-e8befaea8f10",
   "metadata": {},
   "outputs": [
    {
     "data": {
      "text/plain": [
       "array([[10, 11],\n",
       "       [12, 13],\n",
       "       [14, 15]])"
      ]
     },
     "execution_count": 18,
     "metadata": {},
     "output_type": "execute_result"
    }
   ],
   "source": [
    "m2 = np.array([[10,11],[12,13],[14,15]])\n",
    "m2"
   ]
  },
  {
   "cell_type": "code",
   "execution_count": 19,
   "id": "a63807da-5f35-4c4a-960f-45087464d6f4",
   "metadata": {},
   "outputs": [
    {
     "data": {
      "text/plain": [
       "array([[ 76,  82],\n",
       "       [184, 199]])"
      ]
     },
     "execution_count": 19,
     "metadata": {},
     "output_type": "execute_result"
    }
   ],
   "source": [
    "m1.dot(m2)"
   ]
  },
  {
   "cell_type": "code",
   "execution_count": 21,
   "id": "ee4291a4-8dd7-468e-9ce2-faeb2ac1a983",
   "metadata": {},
   "outputs": [
    {
     "data": {
      "text/plain": [
       "array([[ 54,  75,  96],\n",
       "       [ 64,  89, 114],\n",
       "       [ 74, 103, 132]])"
      ]
     },
     "execution_count": 21,
     "metadata": {},
     "output_type": "execute_result"
    }
   ],
   "source": [
    "m2.dot(m1)"
   ]
  },
  {
   "cell_type": "code",
   "execution_count": 25,
   "id": "34c6d848-036a-4b11-abca-016b8dbd6c8b",
   "metadata": {},
   "outputs": [
    {
     "ename": "ValueError",
     "evalue": "operands could not be broadcast together with shapes (2,3) (3,2) ",
     "output_type": "error",
     "traceback": [
      "\u001b[1;31m---------------------------------------------------------------------------\u001b[0m",
      "\u001b[1;31mValueError\u001b[0m                                Traceback (most recent call last)",
      "Cell \u001b[1;32mIn[25], line 1\u001b[0m\n\u001b[1;32m----> 1\u001b[0m m1\u001b[38;5;241m%\u001b[39mm2\n",
      "\u001b[1;31mValueError\u001b[0m: operands could not be broadcast together with shapes (2,3) (3,2) "
     ]
    }
   ],
   "source": [
    "m1%m2"
   ]
  },
  {
   "cell_type": "code",
   "execution_count": 29,
   "id": "360cf33b-4aa8-4a99-9b30-0422e698c9df",
   "metadata": {},
   "outputs": [],
   "source": [
    "m1  = m1.transpose()"
   ]
  },
  {
   "cell_type": "code",
   "execution_count": 34,
   "id": "917f30d5-4d85-4b95-86bc-448c1b3b7c7f",
   "metadata": {},
   "outputs": [
    {
     "data": {
      "text/plain": [
       "(numpy.ndarray, (10,), 1)"
      ]
     },
     "execution_count": 34,
     "metadata": {},
     "output_type": "execute_result"
    }
   ],
   "source": [
    "m1 = np.arange(10)\n",
    "type(m1),m1.shape,m1.ndim"
   ]
  },
  {
   "cell_type": "code",
   "execution_count": 35,
   "id": "58a03ffd-9adc-4ba0-ab0b-c197bf6857f1",
   "metadata": {},
   "outputs": [
    {
     "data": {
      "text/plain": [
       "array([1, 2, 3, 4, 5, 6, 7, 8, 9])"
      ]
     },
     "execution_count": 35,
     "metadata": {},
     "output_type": "execute_result"
    }
   ],
   "source": [
    "m2 = np.arange(1,10)\n",
    "m2"
   ]
  },
  {
   "cell_type": "code",
   "execution_count": 36,
   "id": "66607ada-28a1-4942-ab45-b8dbe80ccf34",
   "metadata": {},
   "outputs": [
    {
     "data": {
      "text/plain": [
       "array([ 1,  3,  5,  7,  9, 11, 13, 15, 17, 19, 21, 23, 25, 27, 29, 31, 33,\n",
       "       35, 37, 39, 41, 43, 45, 47, 49])"
      ]
     },
     "execution_count": 36,
     "metadata": {},
     "output_type": "execute_result"
    }
   ],
   "source": [
    "m3 = np.arange(1,51,2)\n",
    "m3"
   ]
  },
  {
   "cell_type": "code",
   "execution_count": 47,
   "id": "18ba9841-bfd5-4a6e-b3e4-22ce313c351f",
   "metadata": {},
   "outputs": [
    {
     "data": {
      "text/plain": [
       "array([ 1. ,  1.5,  2. ,  2.5,  3. ,  3.5,  4. ,  4.5,  5. ,  5.5,  6. ,\n",
       "        6.5,  7. ,  7.5,  8. ,  8.5,  9. ,  9.5, 10. ])"
      ]
     },
     "execution_count": 47,
     "metadata": {},
     "output_type": "execute_result"
    }
   ],
   "source": [
    "m4 = np.linspace(1,10,19)\n",
    "m4"
   ]
  },
  {
   "cell_type": "code",
   "execution_count": 50,
   "id": "e5b021f0-f2ad-4c04-92d8-61b14979bbdf",
   "metadata": {},
   "outputs": [
    {
     "data": {
      "text/plain": [
       "(50,)"
      ]
     },
     "execution_count": 50,
     "metadata": {},
     "output_type": "execute_result"
    }
   ],
   "source": [
    "m4 = np.linspace(1,20)\n",
    "m4.shape"
   ]
  },
  {
   "cell_type": "code",
   "execution_count": 45,
   "id": "e6bde614-1936-406a-941b-a489da287081",
   "metadata": {},
   "outputs": [
    {
     "data": {
      "text/plain": [
       "0.1836734693877551"
      ]
     },
     "execution_count": 45,
     "metadata": {},
     "output_type": "execute_result"
    }
   ],
   "source": [
    "(10-1)/(50-1)"
   ]
  },
  {
   "cell_type": "code",
   "execution_count": 51,
   "id": "4c0ba588-f78a-4f32-8aaf-ce491dbbe63b",
   "metadata": {},
   "outputs": [
    {
     "data": {
      "text/plain": [
       "array([ 1.        ,  1.47368421,  1.94736842,  2.42105263,  2.89473684,\n",
       "        3.36842105,  3.84210526,  4.31578947,  4.78947368,  5.26315789,\n",
       "        5.73684211,  6.21052632,  6.68421053,  7.15789474,  7.63157895,\n",
       "        8.10526316,  8.57894737,  9.05263158,  9.52631579, 10.        ])"
      ]
     },
     "execution_count": 51,
     "metadata": {},
     "output_type": "execute_result"
    }
   ],
   "source": [
    "np.linspace(1,10,20,endpoint=True)"
   ]
  },
  {
   "cell_type": "code",
   "execution_count": 56,
   "id": "1018b7b6-72a1-4705-a51b-e42e21315d68",
   "metadata": {},
   "outputs": [
    {
     "data": {
      "text/plain": [
       "array([ 1.  ,  1.95,  2.9 ,  3.85,  4.8 ,  5.75,  6.7 ,  7.65,  8.6 ,\n",
       "        9.55, 10.5 , 11.45, 12.4 , 13.35, 14.3 , 15.25, 16.2 , 17.15,\n",
       "       18.1 , 19.05])"
      ]
     },
     "execution_count": 56,
     "metadata": {},
     "output_type": "execute_result"
    }
   ],
   "source": [
    "m4 = np.linspace(1,20,20,endpoint=False)\n",
    "m4"
   ]
  },
  {
   "cell_type": "code",
   "execution_count": 57,
   "id": "ca6b342f-f6bc-42eb-93f9-2d6aee7f4c93",
   "metadata": {},
   "outputs": [
    {
     "data": {
      "text/plain": [
       "array([ 1.,  2.,  3.,  4.,  5.,  6.,  7.,  8.,  9., 10., 11., 12., 13.,\n",
       "       14., 15., 16., 17., 18., 19., 20.])"
      ]
     },
     "execution_count": 57,
     "metadata": {},
     "output_type": "execute_result"
    }
   ],
   "source": [
    "m4 = np.linspace(1,20,20,endpoint=True)\n",
    "m4"
   ]
  },
  {
   "cell_type": "code",
   "execution_count": 62,
   "id": "f5a67168-6c72-407b-843a-cf63960bd102",
   "metadata": {},
   "outputs": [
    {
     "data": {
      "text/plain": [
       "array([ 1., 20.])"
      ]
     },
     "execution_count": 62,
     "metadata": {},
     "output_type": "execute_result"
    }
   ],
   "source": [
    "m4 = np.linspace(1,20,2,endpoint=True)\n",
    "m4"
   ]
  },
  {
   "cell_type": "code",
   "execution_count": 54,
   "id": "3736e746-3a8b-4f95-934d-873675b28e17",
   "metadata": {},
   "outputs": [
    {
     "data": {
      "text/plain": [
       "0.47368421052631576"
      ]
     },
     "execution_count": 54,
     "metadata": {},
     "output_type": "execute_result"
    }
   ],
   "source": [
    "(10-1)/(20-1)"
   ]
  }
 ],
 "metadata": {
  "kernelspec": {
   "display_name": "Python 3 (ipykernel)",
   "language": "python",
   "name": "python3"
  },
  "language_info": {
   "codemirror_mode": {
    "name": "ipython",
    "version": 3
   },
   "file_extension": ".py",
   "mimetype": "text/x-python",
   "name": "python",
   "nbconvert_exporter": "python",
   "pygments_lexer": "ipython3",
   "version": "3.12.4"
  }
 },
 "nbformat": 4,
 "nbformat_minor": 5
}
