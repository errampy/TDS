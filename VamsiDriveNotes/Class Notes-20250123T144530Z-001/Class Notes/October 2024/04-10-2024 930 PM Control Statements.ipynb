{
 "cells": [
  {
   "cell_type": "code",
   "execution_count": 1,
   "id": "aac31230-c722-4695-9640-4118419e209f",
   "metadata": {},
   "outputs": [
    {
     "name": "stdout",
     "output_type": "stream",
     "text": [
      "[10, 20, 30, 40, 50]\n"
     ]
    }
   ],
   "source": [
    "x=[10,20,30,40,50]\n",
    "print(x)"
   ]
  },
  {
   "cell_type": "code",
   "execution_count": 2,
   "id": "9b15bcea-87c7-4bfa-b0f1-1b469df6745c",
   "metadata": {},
   "outputs": [
    {
     "name": "stdout",
     "output_type": "stream",
     "text": [
      "10\n",
      "20\n",
      "30\n",
      "40\n",
      "50\n"
     ]
    }
   ],
   "source": [
    "print(x[0])\n",
    "print(x[1])\n",
    "print(x[2])\n",
    "print(x[3])\n",
    "print(x[4])"
   ]
  },
  {
   "cell_type": "code",
   "execution_count": 21,
   "id": "96c735d2-9710-4f5a-b28f-31ad030af9c9",
   "metadata": {},
   "outputs": [
    {
     "name": "stdout",
     "output_type": "stream",
     "text": [
      "10\n",
      "20\n",
      "30\n",
      "40\n",
      "50\n"
     ]
    }
   ],
   "source": [
    "for i in x:\n",
    "    print(i)"
   ]
  },
  {
   "cell_type": "code",
   "execution_count": 26,
   "id": "652a9307-d4ad-4b8d-90f6-1e228f0950da",
   "metadata": {},
   "outputs": [
    {
     "name": "stdout",
     "output_type": "stream",
     "text": [
      "<class 'float'>\n"
     ]
    }
   ],
   "source": [
    "x=[10,True,\"hello\",20.45]\n",
    "print(type(x[3]))"
   ]
  },
  {
   "cell_type": "code",
   "execution_count": 27,
   "id": "a7101255-fcca-41d4-b427-82d37ca5c13b",
   "metadata": {},
   "outputs": [
    {
     "name": "stdout",
     "output_type": "stream",
     "text": [
      "<class 'int'>\n",
      "<class 'bool'>\n",
      "<class 'str'>\n",
      "<class 'float'>\n"
     ]
    }
   ],
   "source": [
    "for i in x:\n",
    "    print(type(i))"
   ]
  },
  {
   "cell_type": "code",
   "execution_count": 28,
   "id": "193aef0e-344a-4d24-97d6-1f195f48e15d",
   "metadata": {},
   "outputs": [
    {
     "name": "stdout",
     "output_type": "stream",
     "text": [
      "w\n",
      "e\n",
      "l\n",
      "c\n",
      "o\n",
      "m\n",
      "e\n"
     ]
    }
   ],
   "source": [
    "s='welcome'\n",
    "for x in s:\n",
    "    print(x)"
   ]
  },
  {
   "cell_type": "code",
   "execution_count": 33,
   "id": "76152859-84ad-4cc0-94eb-d3f8cf9c460e",
   "metadata": {},
   "outputs": [
    {
     "name": "stdout",
     "output_type": "stream",
     "text": [
      "10\n",
      "20\n",
      "30\n",
      "40\n",
      "50\n",
      "60\n"
     ]
    }
   ],
   "source": [
    "for x in [10,20,30,40,50,60]:\n",
    "    print(x)"
   ]
  },
  {
   "cell_type": "code",
   "execution_count": 34,
   "id": "5eef00cf-44c6-4abe-ac49-6ac1343b630e",
   "metadata": {},
   "outputs": [
    {
     "name": "stdout",
     "output_type": "stream",
     "text": [
      "20.45 <class 'float'>\n",
      "hello <class 'str'>\n",
      "True <class 'bool'>\n",
      "False <class 'bool'>\n",
      "1234 <class 'int'>\n"
     ]
    }
   ],
   "source": [
    "for i in (20.45,\"hello\",True,False,1234):\n",
    "    print(i,type(i))"
   ]
  },
  {
   "cell_type": "code",
   "execution_count": 38,
   "id": "50e4b30e-e6ac-45f3-a49f-2a91497d5aab",
   "metadata": {},
   "outputs": [
    {
     "name": "stdout",
     "output_type": "stream",
     "text": [
      "{50, 20, 40, 10, 60, 30} <class 'set'>\n"
     ]
    }
   ],
   "source": [
    "s={20,30,40,10,20,30,40,50,60}\n",
    "print(s,type(s))"
   ]
  },
  {
   "cell_type": "code",
   "execution_count": 37,
   "id": "f8724338-1f36-40ec-ab3d-3c2873a86c67",
   "metadata": {},
   "outputs": [
    {
     "name": "stdout",
     "output_type": "stream",
     "text": [
      "50\n",
      "20\n",
      "40\n",
      "10\n",
      "60\n",
      "30\n"
     ]
    }
   ],
   "source": [
    "for i in s:\n",
    "    print(i)"
   ]
  },
  {
   "cell_type": "code",
   "execution_count": 42,
   "id": "24aa6d77-ce12-4007-81bd-f6b10869748c",
   "metadata": {},
   "outputs": [
    {
     "name": "stdout",
     "output_type": "stream",
     "text": [
      "449\n"
     ]
    }
   ],
   "source": [
    "x=[8,12,45,23,10,40,52,90,76,44,10,4,15,20]\n",
    "t=0\n",
    "for i in x:\n",
    "    t+=i\n",
    "print(t)\n"
   ]
  },
  {
   "cell_type": "code",
   "execution_count": 43,
   "id": "e8a48471-2144-4547-873d-12cc4c2b21d2",
   "metadata": {},
   "outputs": [
    {
     "data": {
      "text/plain": [
       "dict"
      ]
     },
     "execution_count": 43,
     "metadata": {},
     "output_type": "execute_result"
    }
   ],
   "source": [
    "d ={\"name\":\"vamsi\",\"gender\":'male',\"city\":\"hyderabad\"}\n",
    "type(d)"
   ]
  },
  {
   "cell_type": "code",
   "execution_count": 46,
   "id": "b9d248b8-3c53-4b30-b1fa-2a20d57ff822",
   "metadata": {},
   "outputs": [
    {
     "data": {
      "text/plain": [
       "(dict_keys(['name', 'gender', 'city']),\n",
       " dict_values(['vamsi', 'male', 'hyderabad']),\n",
       " dict_items([('name', 'vamsi'), ('gender', 'male'), ('city', 'hyderabad')]))"
      ]
     },
     "execution_count": 46,
     "metadata": {},
     "output_type": "execute_result"
    }
   ],
   "source": [
    "d.keys(),d.values(),d.items()"
   ]
  },
  {
   "cell_type": "code",
   "execution_count": 47,
   "id": "b27b5e3a-01f6-4bad-bc53-473a113629cf",
   "metadata": {},
   "outputs": [
    {
     "name": "stdout",
     "output_type": "stream",
     "text": [
      "name\n",
      "gender\n",
      "city\n"
     ]
    }
   ],
   "source": [
    "for i in d.keys():\n",
    "    print(i)"
   ]
  },
  {
   "cell_type": "code",
   "execution_count": 48,
   "id": "276df92a-c3b5-4a1b-add1-f3a38c1d4720",
   "metadata": {},
   "outputs": [
    {
     "name": "stdout",
     "output_type": "stream",
     "text": [
      "vamsi\n",
      "male\n",
      "hyderabad\n"
     ]
    }
   ],
   "source": [
    "for j in d.values():\n",
    "    print(j)"
   ]
  },
  {
   "cell_type": "code",
   "execution_count": 54,
   "id": "e206c7ae-9236-4801-8698-78b5e40e3e93",
   "metadata": {},
   "outputs": [
    {
     "name": "stdout",
     "output_type": "stream",
     "text": [
      "20\n"
     ]
    }
   ],
   "source": [
    "i,j=10,20\n",
    "print(j)"
   ]
  },
  {
   "cell_type": "code",
   "execution_count": 58,
   "id": "3c739d97-0423-49b2-a438-d1e933534bff",
   "metadata": {},
   "outputs": [
    {
     "name": "stdout",
     "output_type": "stream",
     "text": [
      "name vamsi\n",
      "gender male\n",
      "city hyderabad\n"
     ]
    }
   ],
   "source": [
    "for k,v in d.items():\n",
    "    print(k,v)"
   ]
  },
  {
   "cell_type": "code",
   "execution_count": 66,
   "id": "9f4a5ccf-b76b-4a12-9c48-61f7e863c8d7",
   "metadata": {},
   "outputs": [
    {
     "name": "stdout",
     "output_type": "stream",
     "text": [
      "1\n",
      "3\n",
      "5\n",
      "7\n",
      "9\n"
     ]
    }
   ],
   "source": [
    "for i in range(1,11,2):\n",
    "    print(i)"
   ]
  },
  {
   "cell_type": "code",
   "execution_count": 67,
   "id": "4a64ad7c-de56-4696-a59f-2878651acd2f",
   "metadata": {},
   "outputs": [
    {
     "name": "stdout",
     "output_type": "stream",
     "text": [
      "1\n",
      "3\n",
      "5\n",
      "7\n",
      "9\n"
     ]
    }
   ],
   "source": [
    "i=1\n",
    "while i<=10:\n",
    "    print(i)\n",
    "    i+=2"
   ]
  }
 ],
 "metadata": {
  "kernelspec": {
   "display_name": "Python 3 (ipykernel)",
   "language": "python",
   "name": "python3"
  },
  "language_info": {
   "codemirror_mode": {
    "name": "ipython",
    "version": 3
   },
   "file_extension": ".py",
   "mimetype": "text/x-python",
   "name": "python",
   "nbconvert_exporter": "python",
   "pygments_lexer": "ipython3",
   "version": "3.12.4"
  }
 },
 "nbformat": 4,
 "nbformat_minor": 5
}
