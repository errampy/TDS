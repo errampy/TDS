{
 "cells": [
  {
   "cell_type": "code",
   "execution_count": 1,
   "id": "bd58239f-dd99-4e7f-bcee-fd0598576b33",
   "metadata": {},
   "outputs": [],
   "source": [
    "def addnum(**kwargs):\n",
    "    return kwargs.get('x',0)+kwargs.get('y',0)+kwargs.get('z',0)"
   ]
  },
  {
   "cell_type": "code",
   "execution_count": 7,
   "id": "ac8e63ad-cc49-4b8b-9d98-04601280c01c",
   "metadata": {},
   "outputs": [
    {
     "data": {
      "text/plain": [
       "(0, 600)"
      ]
     },
     "execution_count": 7,
     "metadata": {},
     "output_type": "execute_result"
    }
   ],
   "source": [
    "addnum(a=10,b=20,c=30),addnum(y=200,a=10,z=300,b=20,c=30,x=100)"
   ]
  },
  {
   "cell_type": "code",
   "execution_count": 15,
   "id": "9b8d174c-b25c-4880-99b9-326006356756",
   "metadata": {},
   "outputs": [],
   "source": [
    "def function1(*args,**kwargs):\n",
    "    print(args)\n",
    "    print(kwargs)"
   ]
  },
  {
   "cell_type": "code",
   "execution_count": 16,
   "id": "fcee8d45-9d26-4f21-a724-34404952303e",
   "metadata": {},
   "outputs": [
    {
     "name": "stdout",
     "output_type": "stream",
     "text": [
      "(10, 20, 30, 40, 300)\n",
      "{'x': 100, 'y': 200}\n"
     ]
    }
   ],
   "source": [
    "function1(10,20,30,40,300,x=100,y=200)"
   ]
  },
  {
   "cell_type": "code",
   "execution_count": 18,
   "id": "579037f5-a501-46df-9935-98da0e655b50",
   "metadata": {},
   "outputs": [
    {
     "ename": "TypeError",
     "evalue": "unsupported operand type(s) for ** or pow(): 'list' and 'int'",
     "output_type": "error",
     "traceback": [
      "\u001b[1;31m---------------------------------------------------------------------------\u001b[0m",
      "\u001b[1;31mTypeError\u001b[0m                                 Traceback (most recent call last)",
      "Cell \u001b[1;32mIn[18], line 2\u001b[0m\n\u001b[0;32m      1\u001b[0m x\u001b[38;5;241m=\u001b[39m[\u001b[38;5;241m5\u001b[39m,\u001b[38;5;241m12\u001b[39m,\u001b[38;5;241m23\u001b[39m,\u001b[38;5;241m10\u001b[39m,\u001b[38;5;241m20\u001b[39m,\u001b[38;5;241m14\u001b[39m,\u001b[38;5;241m6\u001b[39m,\u001b[38;5;241m11\u001b[39m]\n\u001b[1;32m----> 2\u001b[0m x\u001b[38;5;241m*\u001b[39m\u001b[38;5;241m*\u001b[39m\u001b[38;5;241m2\u001b[39m\n",
      "\u001b[1;31mTypeError\u001b[0m: unsupported operand type(s) for ** or pow(): 'list' and 'int'"
     ]
    }
   ],
   "source": [
    "x=[5,12,23,10,20,14,6,11]\n",
    "x**2"
   ]
  },
  {
   "cell_type": "code",
   "execution_count": 20,
   "id": "eadc0882-37b3-4ac2-a1fb-8db6651bc3c1",
   "metadata": {},
   "outputs": [],
   "source": [
    "def find_square(i):\n",
    "    return i**2"
   ]
  },
  {
   "cell_type": "code",
   "execution_count": 25,
   "id": "8a0b8077-91d7-40ee-8208-01cab1b78694",
   "metadata": {},
   "outputs": [
    {
     "data": {
      "text/plain": [
       "[25, 144, 529, 100, 400, 196, 36, 121]"
      ]
     },
     "execution_count": 25,
     "metadata": {},
     "output_type": "execute_result"
    }
   ],
   "source": [
    "list(map(find_square,x))"
   ]
  },
  {
   "cell_type": "code",
   "execution_count": 28,
   "id": "d090e960-bcf2-44b4-ba72-033763548b3a",
   "metadata": {},
   "outputs": [
    {
     "data": {
      "text/plain": [
       "[25, 144, 529, 100, 400, 196, 36, 121]"
      ]
     },
     "execution_count": 28,
     "metadata": {},
     "output_type": "execute_result"
    }
   ],
   "source": [
    "list(map(lambda a:a**2,x))"
   ]
  },
  {
   "cell_type": "code",
   "execution_count": 29,
   "id": "6fe95b7f-1dd7-4c43-9c82-149626402845",
   "metadata": {},
   "outputs": [
    {
     "data": {
      "text/plain": [
       "[125, 1728, 12167, 1000, 8000, 2744, 216, 1331]"
      ]
     },
     "execution_count": 29,
     "metadata": {},
     "output_type": "execute_result"
    }
   ],
   "source": [
    "list(map(lambda i:i**3,x))"
   ]
  }
 ],
 "metadata": {
  "kernelspec": {
   "display_name": "Python 3 (ipykernel)",
   "language": "python",
   "name": "python3"
  },
  "language_info": {
   "codemirror_mode": {
    "name": "ipython",
    "version": 3
   },
   "file_extension": ".py",
   "mimetype": "text/x-python",
   "name": "python",
   "nbconvert_exporter": "python",
   "pygments_lexer": "ipython3",
   "version": "3.12.4"
  }
 },
 "nbformat": 4,
 "nbformat_minor": 5
}
