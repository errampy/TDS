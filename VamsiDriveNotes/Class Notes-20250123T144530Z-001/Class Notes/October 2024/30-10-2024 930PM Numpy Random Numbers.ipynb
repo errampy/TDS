{
 "cells": [
  {
   "cell_type": "code",
   "execution_count": 1,
   "id": "ae37c786-18ae-45b0-82cc-ec665a9d71dc",
   "metadata": {},
   "outputs": [],
   "source": [
    "import numpy as np"
   ]
  },
  {
   "cell_type": "code",
   "execution_count": 58,
   "id": "3b8e1ee8-0877-4d0f-92a0-5eb529be70aa",
   "metadata": {},
   "outputs": [
    {
     "data": {
      "text/plain": [
       "array([[0.75993539, 0.74937377, 0.1550422 ],\n",
       "       [0.36644996, 0.86152083, 0.42766237],\n",
       "       [0.82480761, 0.66348944, 0.57322432],\n",
       "       [0.07358198, 0.69749837, 0.51141519],\n",
       "       [0.16202535, 0.46463942, 0.36858279],\n",
       "       [0.98048253, 0.05409541, 0.70169123]])"
      ]
     },
     "execution_count": 58,
     "metadata": {},
     "output_type": "execute_result"
    }
   ],
   "source": [
    "x = np.random.random_sample((6,3))\n",
    "x"
   ]
  },
  {
   "cell_type": "code",
   "execution_count": 79,
   "id": "81bedb6c-3ee9-4f85-b085-2c9be1ec7b0b",
   "metadata": {},
   "outputs": [
    {
     "data": {
      "text/plain": [
       "array([[90, 91, 78, 89, 95, 85],\n",
       "       [86, 80, 88, 94, 88, 93],\n",
       "       [80, 88, 84, 91, 76, 81],\n",
       "       [90, 78, 91, 88, 76, 94],\n",
       "       [84, 90, 84, 89, 86, 77]])"
      ]
     },
     "execution_count": 79,
     "metadata": {},
     "output_type": "execute_result"
    }
   ],
   "source": [
    "marks = np.random.randint(75,96,(5,6))\n",
    "marks"
   ]
  },
  {
   "cell_type": "code",
   "execution_count": 54,
   "id": "4d5119ae-0f68-4d8e-97fa-3616e74835d8",
   "metadata": {},
   "outputs": [
    {
     "data": {
      "text/plain": [
       "array([[ 9, 12,  7, 10, 12],\n",
       "       [10, 10, 13,  7,  5],\n",
       "       [ 5,  7,  3,  1, 14]])"
      ]
     },
     "execution_count": 54,
     "metadata": {},
     "output_type": "execute_result"
    }
   ],
   "source": [
    "m1 = np.random.randint(1,16,(3,5))\n",
    "m1"
   ]
  },
  {
   "cell_type": "code",
   "execution_count": 55,
   "id": "885abe49-1bb6-4e87-a759-1d279cbe6a25",
   "metadata": {},
   "outputs": [
    {
     "data": {
      "text/plain": [
       "array([[26, 27, 21, 24],\n",
       "       [34, 30, 32, 34],\n",
       "       [24, 32, 26, 27],\n",
       "       [23, 30, 29, 24],\n",
       "       [26, 20, 33, 28]])"
      ]
     },
     "execution_count": 55,
     "metadata": {},
     "output_type": "execute_result"
    }
   ],
   "source": [
    "m2 = np.random.randint(20,35,(5,4))\n",
    "m2"
   ]
  },
  {
   "cell_type": "code",
   "execution_count": 56,
   "id": "7fca5e7a-4ad9-4dbf-afc5-cdba551bcb58",
   "metadata": {},
   "outputs": [
    {
     "data": {
      "text/plain": [
       "array([[1352, 1367, 1441, 1389],\n",
       "       [1203, 1296, 1236, 1239],\n",
       "       [ 827,  751,  898,  855]])"
      ]
     },
     "execution_count": 56,
     "metadata": {},
     "output_type": "execute_result"
    }
   ],
   "source": [
    "m1.dot(m2)"
   ]
  },
  {
   "cell_type": "code",
   "execution_count": 174,
   "id": "77e1b457-a0f6-4abd-a912-fb1ff8ed497b",
   "metadata": {},
   "outputs": [
    {
     "data": {
      "text/plain": [
       "array([[110.79575965, 192.44748944, 175.00753215, 188.51963166],\n",
       "       [114.77689648, 160.6499609 , 109.71754355, 146.47013683],\n",
       "       [141.1679149 , 187.73454796, 191.11322532, 115.27739109],\n",
       "       [189.82288524, 106.95491023, 166.4699903 , 193.22627728],\n",
       "       [113.32015005, 195.31846615, 121.79583343, 160.20988545],\n",
       "       [107.67165014, 141.92718521, 182.51136861, 159.16522175],\n",
       "       [188.88058814, 154.82444265, 198.36461046, 125.24562754],\n",
       "       [140.89653845, 129.74416674, 121.20359378, 170.82016477],\n",
       "       [163.80407361, 198.90725647, 178.26343651, 104.99282225],\n",
       "       [165.47567493, 158.33471598, 102.36437562, 133.53935007]])"
      ]
     },
     "execution_count": 174,
     "metadata": {},
     "output_type": "execute_result"
    }
   ],
   "source": [
    "100*np.random.random_sample((10,4))+100"
   ]
  },
  {
   "cell_type": "code",
   "execution_count": 226,
   "id": "1298a0aa-d148-489e-9b71-dfdd2ee3256f",
   "metadata": {},
   "outputs": [
    {
     "data": {
      "text/plain": [
       "array([15, 10, 13, 13, 17, 19, 13, 15, 12, 14])"
      ]
     },
     "execution_count": 226,
     "metadata": {},
     "output_type": "execute_result"
    }
   ],
   "source": [
    "np.random.seed(0)\n",
    "np.random.randint(10,20,10)"
   ]
  },
  {
   "cell_type": "code",
   "execution_count": 233,
   "id": "052ec40d-2371-4a7e-b0d9-257d5de2dac0",
   "metadata": {},
   "outputs": [
    {
     "data": {
      "text/plain": [
       "array([15, 10, 13, 13, 17, 19, 13, 15, 12, 14])"
      ]
     },
     "execution_count": 233,
     "metadata": {},
     "output_type": "execute_result"
    }
   ],
   "source": [
    "np.random.seed(0)\n",
    "np.random.randint(10,20,10)"
   ]
  }
 ],
 "metadata": {
  "kernelspec": {
   "display_name": "Python 3 (ipykernel)",
   "language": "python",
   "name": "python3"
  },
  "language_info": {
   "codemirror_mode": {
    "name": "ipython",
    "version": 3
   },
   "file_extension": ".py",
   "mimetype": "text/x-python",
   "name": "python",
   "nbconvert_exporter": "python",
   "pygments_lexer": "ipython3",
   "version": "3.12.4"
  }
 },
 "nbformat": 4,
 "nbformat_minor": 5
}
