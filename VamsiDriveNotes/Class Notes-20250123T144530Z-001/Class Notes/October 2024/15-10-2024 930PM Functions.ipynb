{
 "cells": [
  {
   "cell_type": "code",
   "execution_count": 1,
   "id": "2a852743-d914-43fd-ab4e-e7aa6a7e3564",
   "metadata": {},
   "outputs": [],
   "source": [
    "def addnum1(i,j,k):\n",
    "    return 2*i+3*j+5*k\n"
   ]
  },
  {
   "cell_type": "code",
   "execution_count": 12,
   "id": "2fa2298a-503f-4e77-9bcb-e5bbe6659a3b",
   "metadata": {},
   "outputs": [
    {
     "data": {
      "text/plain": [
       "(230, 230)"
      ]
     },
     "execution_count": 12,
     "metadata": {},
     "output_type": "execute_result"
    }
   ],
   "source": [
    "addnum1(10,k=30,j=20),addnum1(10,j=20,k=30)"
   ]
  },
  {
   "cell_type": "code",
   "execution_count": 4,
   "id": "174f6a7c-92ba-41eb-a080-19e1e648fd62",
   "metadata": {},
   "outputs": [
    {
     "data": {
      "text/plain": [
       "(230, 180, 230)"
      ]
     },
     "execution_count": 4,
     "metadata": {},
     "output_type": "execute_result"
    }
   ],
   "source": [
    "addnum1(10,20,30),addnum1(20,30,10),addnum1(j=20,k=30,i=10)"
   ]
  },
  {
   "cell_type": "code",
   "execution_count": 16,
   "id": "f36c012e-b369-424b-84bf-a6d3193ce555",
   "metadata": {},
   "outputs": [],
   "source": [
    "def addnum(i,j,k):\n",
    "    return i*2+j*5+k*3"
   ]
  },
  {
   "cell_type": "code",
   "execution_count": 17,
   "id": "efa6772d-1882-4a48-a2dc-f6d19230f6ce",
   "metadata": {},
   "outputs": [
    {
     "data": {
      "text/plain": [
       "220"
      ]
     },
     "execution_count": 17,
     "metadata": {},
     "output_type": "execute_result"
    }
   ],
   "source": [
    "addnum(20,k=10,j=30)"
   ]
  },
  {
   "cell_type": "code",
   "execution_count": 18,
   "id": "c33853b3-9b78-4df3-a2b0-82fb5280cd07",
   "metadata": {},
   "outputs": [
    {
     "ename": "TypeError",
     "evalue": "addnum1() missing 1 required positional argument: 'k'",
     "output_type": "error",
     "traceback": [
      "\u001b[1;31m---------------------------------------------------------------------------\u001b[0m",
      "\u001b[1;31mTypeError\u001b[0m                                 Traceback (most recent call last)",
      "Cell \u001b[1;32mIn[18], line 1\u001b[0m\n\u001b[1;32m----> 1\u001b[0m addnum1(\u001b[38;5;241m10\u001b[39m,\u001b[38;5;241m20\u001b[39m)\n",
      "\u001b[1;31mTypeError\u001b[0m: addnum1() missing 1 required positional argument: 'k'"
     ]
    }
   ],
   "source": [
    "addnum1(10,20)"
   ]
  },
  {
   "cell_type": "code",
   "execution_count": 28,
   "id": "9252d12b-af3e-436f-b9cb-610d4f95ac71",
   "metadata": {},
   "outputs": [],
   "source": [
    "def addnum2(i=0,j=0,k=0):\n",
    "    return 2*i+3*j+5*k\n"
   ]
  },
  {
   "cell_type": "code",
   "execution_count": 33,
   "id": "20f7a184-2f1e-4d54-958f-042c42c00171",
   "metadata": {},
   "outputs": [
    {
     "data": {
      "text/plain": [
       "(230, 120, 80, 20, 0, 20)"
      ]
     },
     "execution_count": 33,
     "metadata": {},
     "output_type": "execute_result"
    }
   ],
   "source": [
    "addnum2(10,20,30),addnum2(k=20,i=10),addnum2(10,20),addnum2(10),addnum2(),addnum2(i=10)"
   ]
  },
  {
   "cell_type": "code",
   "execution_count": 47,
   "id": "8bfe0759-997c-4a9a-9e65-5a65327999c7",
   "metadata": {},
   "outputs": [
    {
     "ename": "TypeError",
     "evalue": "addnum2() takes from 0 to 3 positional arguments but 4 were given",
     "output_type": "error",
     "traceback": [
      "\u001b[1;31m---------------------------------------------------------------------------\u001b[0m",
      "\u001b[1;31mTypeError\u001b[0m                                 Traceback (most recent call last)",
      "Cell \u001b[1;32mIn[47], line 1\u001b[0m\n\u001b[1;32m----> 1\u001b[0m addnum2(\u001b[38;5;241m10\u001b[39m,\u001b[38;5;241m20\u001b[39m,\u001b[38;5;241m30\u001b[39m,\u001b[38;5;241m40\u001b[39m)\n",
      "\u001b[1;31mTypeError\u001b[0m: addnum2() takes from 0 to 3 positional arguments but 4 were given"
     ]
    }
   ],
   "source": [
    "addnum2(10,20,30,40)"
   ]
  },
  {
   "cell_type": "code",
   "execution_count": 34,
   "id": "e54ddbaf-e526-40f1-b6b1-10db15daa8fb",
   "metadata": {},
   "outputs": [
    {
     "data": {
      "text/plain": [
       "40"
      ]
     },
     "execution_count": 34,
     "metadata": {},
     "output_type": "execute_result"
    }
   ],
   "source": [
    "x=[10,20,30,40,50,60,70]\n",
    "x.pop(3)"
   ]
  },
  {
   "cell_type": "code",
   "execution_count": 42,
   "id": "44c917c2-a3a7-4197-8800-0884bcd23bfb",
   "metadata": {},
   "outputs": [
    {
     "ename": "IndexError",
     "evalue": "pop from empty list",
     "output_type": "error",
     "traceback": [
      "\u001b[1;31m---------------------------------------------------------------------------\u001b[0m",
      "\u001b[1;31mIndexError\u001b[0m                                Traceback (most recent call last)",
      "Cell \u001b[1;32mIn[42], line 1\u001b[0m\n\u001b[1;32m----> 1\u001b[0m x\u001b[38;5;241m.\u001b[39mpop()\n",
      "\u001b[1;31mIndexError\u001b[0m: pop from empty list"
     ]
    }
   ],
   "source": [
    "x.pop()"
   ]
  },
  {
   "cell_type": "code",
   "execution_count": 41,
   "id": "ead1a54b-d4ac-4056-829a-f3a93ba83c20",
   "metadata": {},
   "outputs": [
    {
     "data": {
      "text/plain": [
       "[]"
      ]
     },
     "execution_count": 41,
     "metadata": {},
     "output_type": "execute_result"
    }
   ],
   "source": [
    "x"
   ]
  }
 ],
 "metadata": {
  "kernelspec": {
   "display_name": "Python 3 (ipykernel)",
   "language": "python",
   "name": "python3"
  },
  "language_info": {
   "codemirror_mode": {
    "name": "ipython",
    "version": 3
   },
   "file_extension": ".py",
   "mimetype": "text/x-python",
   "name": "python",
   "nbconvert_exporter": "python",
   "pygments_lexer": "ipython3",
   "version": "3.12.4"
  }
 },
 "nbformat": 4,
 "nbformat_minor": 5
}
