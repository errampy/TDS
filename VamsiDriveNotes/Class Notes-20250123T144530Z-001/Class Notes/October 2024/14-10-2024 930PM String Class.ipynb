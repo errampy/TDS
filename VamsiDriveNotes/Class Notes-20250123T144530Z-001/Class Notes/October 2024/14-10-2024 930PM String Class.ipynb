{
 "cells": [
  {
   "cell_type": "code",
   "execution_count": 2,
   "id": "2a184077-e0cf-4391-9f4e-6eda8ff72ebb",
   "metadata": {},
   "outputs": [
    {
     "data": {
      "text/plain": [
       "(['welcome', 'to', 'python', 'training'], list)"
      ]
     },
     "execution_count": 2,
     "metadata": {},
     "output_type": "execute_result"
    }
   ],
   "source": [
    "s = 'welcome to python training'\n",
    "words = s.split()\n",
    "words,type(words)"
   ]
  },
  {
   "cell_type": "code",
   "execution_count": 6,
   "id": "182d25d6-5ff4-4a93-87d5-e84d535b4a50",
   "metadata": {},
   "outputs": [
    {
     "data": {
      "text/plain": [
       "'welcome to python training'"
      ]
     },
     "execution_count": 6,
     "metadata": {},
     "output_type": "execute_result"
    }
   ],
   "source": [
    "join_str = \" \"\n",
    "join_str.join(words)"
   ]
  },
  {
   "cell_type": "code",
   "execution_count": 7,
   "id": "fad2f648-4d3f-4523-ab2b-48678d706678",
   "metadata": {},
   "outputs": [
    {
     "data": {
      "text/plain": [
       "(True, True, False)"
      ]
     },
     "execution_count": 7,
     "metadata": {},
     "output_type": "execute_result"
    }
   ],
   "source": [
    "s='abcd'\n",
    "s.isalpha(),s.isalnum(),s.isdigit()"
   ]
  },
  {
   "cell_type": "code",
   "execution_count": 8,
   "id": "7cb6e111-5b81-46e7-9a76-e11bd9953341",
   "metadata": {},
   "outputs": [
    {
     "data": {
      "text/plain": [
       "(False, True, True)"
      ]
     },
     "execution_count": 8,
     "metadata": {},
     "output_type": "execute_result"
    }
   ],
   "source": [
    "s='1234'\n",
    "s.isalpha(),s.isalnum(),s.isdigit()"
   ]
  },
  {
   "cell_type": "code",
   "execution_count": 9,
   "id": "c8cbe306-2ac7-4893-b81f-63f820e82f21",
   "metadata": {},
   "outputs": [
    {
     "data": {
      "text/plain": [
       "(False, True, False)"
      ]
     },
     "execution_count": 9,
     "metadata": {},
     "output_type": "execute_result"
    }
   ],
   "source": [
    "s='abcd1234'\n",
    "s.isalpha(),s.isalnum(),s.isdigit()"
   ]
  },
  {
   "cell_type": "code",
   "execution_count": 11,
   "id": "ea003dc3-746d-46f9-9b55-228fc3cb4d5f",
   "metadata": {},
   "outputs": [
    {
     "data": {
      "text/plain": [
       "(False, False, False, True)"
      ]
     },
     "execution_count": 11,
     "metadata": {},
     "output_type": "execute_result"
    }
   ],
   "source": [
    "s='abcd@1234'\n",
    "s.isalpha(),s.isalnum(),s.isdigit(),s.isprintable()"
   ]
  },
  {
   "cell_type": "code",
   "execution_count": 12,
   "id": "a60caaa2-42da-4ebb-9424-a6a10c21e042",
   "metadata": {},
   "outputs": [
    {
     "data": {
      "text/plain": [
       "(False, False, False, False)"
      ]
     },
     "execution_count": 12,
     "metadata": {},
     "output_type": "execute_result"
    }
   ],
   "source": [
    "s='abcd\\n1234'\n",
    "s.isalpha(),s.isalnum(),s.isdigit(),s.isprintable()"
   ]
  },
  {
   "cell_type": "code",
   "execution_count": 18,
   "id": "2d812ae6-035b-4823-8f5f-5fbc371cf374",
   "metadata": {},
   "outputs": [
    {
     "data": {
      "text/plain": [
       "(True, False)"
      ]
     },
     "execution_count": 18,
     "metadata": {},
     "output_type": "execute_result"
    }
   ],
   "source": [
    "name= 'vamsi krishna'\n",
    "name[5].isspace(),name[4].isspace()"
   ]
  },
  {
   "cell_type": "code",
   "execution_count": 21,
   "id": "b5ec72dd-10bc-483e-b2ce-2c74bdefe240",
   "metadata": {},
   "outputs": [
    {
     "data": {
      "text/plain": [
       "['288458']"
      ]
     },
     "execution_count": 21,
     "metadata": {},
     "output_type": "execute_result"
    }
   ],
   "source": [
    "msg = 'The OTP for the online transaction is 288458 Please donot share with anyone'\n",
    "otp = [i for i in msg.split() if i.isdigit()]\n",
    "otp"
   ]
  },
  {
   "cell_type": "code",
   "execution_count": 24,
   "id": "16793960-3e8f-4fc8-92b0-5c31d9a5553b",
   "metadata": {},
   "outputs": [
    {
     "data": {
      "text/plain": [
       "2"
      ]
     },
     "execution_count": 24,
     "metadata": {},
     "output_type": "execute_result"
    }
   ],
   "source": [
    "s= 'welcome to python training python is a general purpose language'\n",
    "s.count('python')"
   ]
  },
  {
   "cell_type": "code",
   "execution_count": 33,
   "id": "6601d3e2-9fc1-4954-a680-88899bb36881",
   "metadata": {},
   "outputs": [
    {
     "data": {
      "text/plain": [
       "11"
      ]
     },
     "execution_count": 33,
     "metadata": {},
     "output_type": "execute_result"
    }
   ],
   "source": [
    "s.index('python')"
   ]
  },
  {
   "cell_type": "code",
   "execution_count": 34,
   "id": "b4e0fe31-3060-4468-95f0-46fbfa1247d3",
   "metadata": {},
   "outputs": [
    {
     "data": {
      "text/plain": [
       "11"
      ]
     },
     "execution_count": 34,
     "metadata": {},
     "output_type": "execute_result"
    }
   ],
   "source": [
    "s.find('python')"
   ]
  },
  {
   "cell_type": "code",
   "execution_count": 39,
   "id": "e377f2b7-2e81-4ff6-be2b-79db7dd19e46",
   "metadata": {},
   "outputs": [
    {
     "data": {
      "text/plain": [
       "('hello.....', '#####hello', '--hello---')"
      ]
     },
     "execution_count": 39,
     "metadata": {},
     "output_type": "execute_result"
    }
   ],
   "source": [
    "s='hello'\n",
    "s.ljust(10,\".\"),s.rjust(10,\"#\"),s.center(10,\"-\")"
   ]
  },
  {
   "cell_type": "code",
   "execution_count": 41,
   "id": "1d3a7d5a-badd-4b5c-ae2d-de7db54c8a1c",
   "metadata": {},
   "outputs": [
    {
     "data": {
      "text/plain": [
       "('001234', '001234')"
      ]
     },
     "execution_count": 41,
     "metadata": {},
     "output_type": "execute_result"
    }
   ],
   "source": [
    "s='1234'\n",
    "s.zfill(6),s.rjust(6,'0')"
   ]
  }
 ],
 "metadata": {
  "kernelspec": {
   "display_name": "Python 3 (ipykernel)",
   "language": "python",
   "name": "python3"
  },
  "language_info": {
   "codemirror_mode": {
    "name": "ipython",
    "version": 3
   },
   "file_extension": ".py",
   "mimetype": "text/x-python",
   "name": "python",
   "nbconvert_exporter": "python",
   "pygments_lexer": "ipython3",
   "version": "3.12.4"
  }
 },
 "nbformat": 4,
 "nbformat_minor": 5
}
