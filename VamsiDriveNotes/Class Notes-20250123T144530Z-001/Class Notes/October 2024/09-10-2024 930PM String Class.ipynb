{
 "cells": [
  {
   "cell_type": "code",
   "execution_count": 1,
   "id": "cadcdd7e-1c53-4f7e-a132-0b8aa47dccb7",
   "metadata": {},
   "outputs": [
    {
     "name": "stdout",
     "output_type": "stream",
     "text": [
      "hello world\n"
     ]
    }
   ],
   "source": [
    "s = 'hello world'\n",
    "print(s)"
   ]
  },
  {
   "cell_type": "code",
   "execution_count": 2,
   "id": "447b85b0-270c-48d1-8529-5d4659a53e9d",
   "metadata": {},
   "outputs": [
    {
     "data": {
      "text/plain": [
       "(True, False, True, False)"
      ]
     },
     "execution_count": 2,
     "metadata": {},
     "output_type": "execute_result"
    }
   ],
   "source": [
    "s.startswith('h'),s.startswith('H'),s.endswith('d'),s.endswith('D')"
   ]
  },
  {
   "cell_type": "code",
   "execution_count": 19,
   "id": "5b9cb799-a7b0-4860-880a-5ce0ca40a42b",
   "metadata": {},
   "outputs": [
    {
     "name": "stdout",
     "output_type": "stream",
     "text": [
      "['welcome', 'to', 'python', 'training']\n"
     ]
    }
   ],
   "source": [
    "s='welcome to python training'\n",
    "words = s.split()\n",
    "print(words)"
   ]
  },
  {
   "cell_type": "code",
   "execution_count": 15,
   "id": "740da66e-13b6-4261-b65e-8049a5e77685",
   "metadata": {},
   "outputs": [
    {
     "data": {
      "text/plain": [
       "['welcome', 'to', 'python training']"
      ]
     },
     "execution_count": 15,
     "metadata": {},
     "output_type": "execute_result"
    }
   ],
   "source": [
    "s.split(sep=\" \",maxsplit=2)"
   ]
  },
  {
   "cell_type": "code",
   "execution_count": 20,
   "id": "6fcfac35-7bc5-4c9f-b6bf-5a5b64949127",
   "metadata": {},
   "outputs": [
    {
     "data": {
      "text/plain": [
       "['welcome', 'to', 'python', 'training']"
      ]
     },
     "execution_count": 20,
     "metadata": {},
     "output_type": "execute_result"
    }
   ],
   "source": [
    "s.rsplit()"
   ]
  },
  {
   "cell_type": "code",
   "execution_count": 21,
   "id": "1c2cb74e-3cdb-495c-a83e-b925e171c687",
   "metadata": {},
   "outputs": [
    {
     "data": {
      "text/plain": [
       "['welcome to', 'python', 'training']"
      ]
     },
     "execution_count": 21,
     "metadata": {},
     "output_type": "execute_result"
    }
   ],
   "source": [
    "s.rsplit(sep=\" \",maxsplit=2)"
   ]
  },
  {
   "cell_type": "code",
   "execution_count": 32,
   "id": "39e69115-e632-456c-9275-e34f42605fd9",
   "metadata": {},
   "outputs": [
    {
     "name": "stdout",
     "output_type": "stream",
     "text": [
      "welcome to python training.\n",
      "python is a general purpose language.\n"
     ]
    }
   ],
   "source": [
    "s='welcome to python training.\\npython is a general purpose language.'\n",
    "print(s)"
   ]
  },
  {
   "cell_type": "code",
   "execution_count": 33,
   "id": "75709fc7-2606-431e-add8-001b025885dd",
   "metadata": {},
   "outputs": [
    {
     "data": {
      "text/plain": [
       "['welcome to python training.', 'python is a general purpose language.']"
      ]
     },
     "execution_count": 33,
     "metadata": {},
     "output_type": "execute_result"
    }
   ],
   "source": [
    "s.split(\"\\n\")"
   ]
  },
  {
   "cell_type": "code",
   "execution_count": 34,
   "id": "68c2756b-ea9a-4ac4-aa53-510bec1d76d2",
   "metadata": {},
   "outputs": [
    {
     "data": {
      "text/plain": [
       "['welcome to python training.', 'python is a general purpose language.']"
      ]
     },
     "execution_count": 34,
     "metadata": {},
     "output_type": "execute_result"
    }
   ],
   "source": [
    "s.splitlines()"
   ]
  },
  {
   "cell_type": "code",
   "execution_count": 37,
   "id": "fcecd08e-7baa-4c01-89d6-39d3c469abca",
   "metadata": {},
   "outputs": [
    {
     "data": {
      "text/plain": [
       "('python training', 'python training****', '***python training')"
      ]
     },
     "execution_count": 37,
     "metadata": {},
     "output_type": "execute_result"
    }
   ],
   "source": [
    "s='***python training****'\n",
    "s.strip('*'),s.lstrip('*'),s.rstrip('*')"
   ]
  },
  {
   "cell_type": "code",
   "execution_count": 42,
   "id": "e0d4da40-0cdf-48ca-887b-4c933c4aaa03",
   "metadata": {},
   "outputs": [
    {
     "data": {
      "text/plain": [
       "('   hello world     ', 'hello world', 'hello world     ', '   hello world')"
      ]
     },
     "execution_count": 42,
     "metadata": {},
     "output_type": "execute_result"
    }
   ],
   "source": [
    "s1 = '   hello world     '\n",
    "s1,s1.strip(),s1.lstrip(),s1.rstrip()"
   ]
  },
  {
   "cell_type": "code",
   "execution_count": 57,
   "id": "26a197e3-ad20-48ed-bf6b-a1f1bbf7fafd",
   "metadata": {},
   "outputs": [
    {
     "data": {
      "text/plain": [
       "('vamsi krishna', 'Mr.vamsi krishna')"
      ]
     },
     "execution_count": 57,
     "metadata": {},
     "output_type": "execute_result"
    }
   ],
   "source": [
    "s='Mr.Mr.vamsi krishna'\n",
    "s.lstrip('Mr.'),s.removeprefix('Mr.')"
   ]
  },
  {
   "cell_type": "code",
   "execution_count": 50,
   "id": "0960f6d6-f1cb-4bbf-bf75-809d4685b7b8",
   "metadata": {},
   "outputs": [
    {
     "data": {
      "text/plain": [
       "['READ', 'WALK', 'EAT', 'RUN', 'WRITE']"
      ]
     },
     "execution_count": 50,
     "metadata": {},
     "output_type": "execute_result"
    }
   ],
   "source": [
    "words = ['reads','walks','eats','runs','writes']\n",
    "[w.upper().rstrip('S') for w in words]"
   ]
  },
  {
   "cell_type": "code",
   "execution_count": null,
   "id": "53459c1c-8c30-40e2-8c10-f50c598c920c",
   "metadata": {},
   "outputs": [],
   "source": [
    "s."
   ]
  }
 ],
 "metadata": {
  "kernelspec": {
   "display_name": "Python 3 (ipykernel)",
   "language": "python",
   "name": "python3"
  },
  "language_info": {
   "codemirror_mode": {
    "name": "ipython",
    "version": 3
   },
   "file_extension": ".py",
   "mimetype": "text/x-python",
   "name": "python",
   "nbconvert_exporter": "python",
   "pygments_lexer": "ipython3",
   "version": "3.12.4"
  }
 },
 "nbformat": 4,
 "nbformat_minor": 5
}
