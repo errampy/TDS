{
 "cells": [
  {
   "cell_type": "code",
   "execution_count": 10,
   "id": "ffb8ca1d-29b9-4e61-824e-882b776786c1",
   "metadata": {},
   "outputs": [],
   "source": [
    "import array"
   ]
  },
  {
   "cell_type": "code",
   "execution_count": 28,
   "id": "09ee3e0d-1cb8-4537-9742-5e70009507cf",
   "metadata": {},
   "outputs": [
    {
     "data": {
      "text/plain": [
       "(array.array, array('i', [10, 20, 30, 40, 50, -50]))"
      ]
     },
     "execution_count": 28,
     "metadata": {},
     "output_type": "execute_result"
    }
   ],
   "source": [
    "a = array.array('i',[10,20,30,40,50,-50])\n",
    "type(a),a"
   ]
  },
  {
   "cell_type": "code",
   "execution_count": 29,
   "id": "c80d5647-896d-4626-8c08-21b5f2b9eff7",
   "metadata": {},
   "outputs": [
    {
     "data": {
      "text/plain": [
       "array('i', [10, 20, 30, 40, 50, -50, 10, 20, 30, 40, 50, -50])"
      ]
     },
     "execution_count": 29,
     "metadata": {},
     "output_type": "execute_result"
    }
   ],
   "source": [
    "a+a"
   ]
  },
  {
   "cell_type": "code",
   "execution_count": 13,
   "id": "ca87dac5-62c8-44db-9941-c2b8d487b5dd",
   "metadata": {},
   "outputs": [
    {
     "data": {
      "text/plain": [
       "array('i', [10, 20, 30, 40, 50, -50, 60])"
      ]
     },
     "execution_count": 13,
     "metadata": {},
     "output_type": "execute_result"
    }
   ],
   "source": [
    "a.append(60)\n",
    "a"
   ]
  },
  {
   "cell_type": "code",
   "execution_count": 14,
   "id": "f7ea6ad9-d008-4b0f-b6a0-12e3cee7b133",
   "metadata": {},
   "outputs": [
    {
     "data": {
      "text/plain": [
       "array('i', [60, -50, 50, 40, 30, 20, 10])"
      ]
     },
     "execution_count": 14,
     "metadata": {},
     "output_type": "execute_result"
    }
   ],
   "source": [
    "a.reverse()\n",
    "a"
   ]
  },
  {
   "cell_type": "code",
   "execution_count": 15,
   "id": "f3f051f2-5cf0-4e69-a838-b9ccbe4594fa",
   "metadata": {},
   "outputs": [
    {
     "data": {
      "text/plain": [
       "10"
      ]
     },
     "execution_count": 15,
     "metadata": {},
     "output_type": "execute_result"
    }
   ],
   "source": [
    "a.pop()"
   ]
  },
  {
   "cell_type": "code",
   "execution_count": 17,
   "id": "6fd54e29-bc2b-4914-a76d-dc044331c93a",
   "metadata": {},
   "outputs": [
    {
     "data": {
      "text/plain": [
       "(array('i', [60, -50, 50, 40, 30, 20]), 6)"
      ]
     },
     "execution_count": 17,
     "metadata": {},
     "output_type": "execute_result"
    }
   ],
   "source": [
    "a,len(a)"
   ]
  },
  {
   "cell_type": "code",
   "execution_count": 18,
   "id": "6b1aa2f1-22a1-4ba2-a10a-6826e557be8d",
   "metadata": {},
   "outputs": [
    {
     "data": {
      "text/plain": [
       "array('i', [-50, 50, 40, 30, 20])"
      ]
     },
     "execution_count": 18,
     "metadata": {},
     "output_type": "execute_result"
    }
   ],
   "source": [
    "a.remove(60)\n",
    "a"
   ]
  },
  {
   "cell_type": "code",
   "execution_count": 19,
   "id": "413f636f-8ea1-4e15-aa26-c587ac2e8283",
   "metadata": {},
   "outputs": [
    {
     "data": {
      "text/plain": [
       "[10, 20, 30, 40, 50]"
      ]
     },
     "execution_count": 19,
     "metadata": {},
     "output_type": "execute_result"
    }
   ],
   "source": [
    "x=[10,20,30,40,50]\n",
    "x"
   ]
  },
  {
   "cell_type": "code",
   "execution_count": 20,
   "id": "28078f01-ced9-4ec7-8487-d62ea2a6beb0",
   "metadata": {},
   "outputs": [
    {
     "data": {
      "text/plain": [
       "[10, 20, 30, 40, 50, 60.65]"
      ]
     },
     "execution_count": 20,
     "metadata": {},
     "output_type": "execute_result"
    }
   ],
   "source": [
    "x.append(60.65)\n",
    "x"
   ]
  },
  {
   "cell_type": "code",
   "execution_count": 21,
   "id": "184f3d37-775a-40de-b074-2b7aea25f3a6",
   "metadata": {},
   "outputs": [
    {
     "ename": "TypeError",
     "evalue": "'float' object cannot be interpreted as an integer",
     "output_type": "error",
     "traceback": [
      "\u001b[1;31m---------------------------------------------------------------------------\u001b[0m",
      "\u001b[1;31mTypeError\u001b[0m                                 Traceback (most recent call last)",
      "Cell \u001b[1;32mIn[21], line 1\u001b[0m\n\u001b[1;32m----> 1\u001b[0m a\u001b[38;5;241m.\u001b[39mappend(\u001b[38;5;241m60.45\u001b[39m)\n",
      "\u001b[1;31mTypeError\u001b[0m: 'float' object cannot be interpreted as an integer"
     ]
    }
   ],
   "source": [
    "a.append(60.45)"
   ]
  },
  {
   "cell_type": "code",
   "execution_count": null,
   "id": "0a04c8ab-ebec-4b6f-8585-b59a7fec10a3",
   "metadata": {},
   "outputs": [],
   "source": []
  },
  {
   "cell_type": "code",
   "execution_count": 24,
   "id": "2ef52425-fc84-46bf-9fb6-b6b3391b4457",
   "metadata": {},
   "outputs": [
    {
     "ename": "TypeError",
     "evalue": "unsupported operand type(s) for ** or pow(): 'list' and 'int'",
     "output_type": "error",
     "traceback": [
      "\u001b[1;31m---------------------------------------------------------------------------\u001b[0m",
      "\u001b[1;31mTypeError\u001b[0m                                 Traceback (most recent call last)",
      "Cell \u001b[1;32mIn[24], line 1\u001b[0m\n\u001b[1;32m----> 1\u001b[0m x\u001b[38;5;241m*\u001b[39m\u001b[38;5;241m*\u001b[39m\u001b[38;5;241m2\u001b[39m\n",
      "\u001b[1;31mTypeError\u001b[0m: unsupported operand type(s) for ** or pow(): 'list' and 'int'"
     ]
    }
   ],
   "source": [
    "x**2"
   ]
  },
  {
   "cell_type": "code",
   "execution_count": 25,
   "id": "e3ad46ae-fb32-417e-9726-7cace197c54c",
   "metadata": {},
   "outputs": [],
   "source": [
    "import numpy as np"
   ]
  },
  {
   "cell_type": "code",
   "execution_count": 27,
   "id": "2a544e00-e2e9-4c77-baa0-67a5390c288a",
   "metadata": {},
   "outputs": [
    {
     "data": {
      "text/plain": [
       "(array([86, 80, 91, 94, 85]),\n",
       " array([80, 89, 78, 93, 96]),\n",
       " array([84, 94, 92, 90, 91]))"
      ]
     },
     "execution_count": 27,
     "metadata": {},
     "output_type": "execute_result"
    }
   ],
   "source": [
    "maths = np.array([86,80,91,94,85])\n",
    "physics = np.array([80,89,78,93,96])\n",
    "chemistry = np.array([84,94,92,90,91])\n",
    "\n",
    "maths,physics,chemistry"
   ]
  },
  {
   "cell_type": "code",
   "execution_count": 30,
   "id": "dff52f03-8bb3-4165-a851-3265cd36f432",
   "metadata": {},
   "outputs": [
    {
     "data": {
      "text/plain": [
       "array([250, 263, 261, 277, 272])"
      ]
     },
     "execution_count": 30,
     "metadata": {},
     "output_type": "execute_result"
    }
   ],
   "source": [
    "total = maths+physics+chemistry\n",
    "total"
   ]
  },
  {
   "cell_type": "code",
   "execution_count": 31,
   "id": "68cd6f28-871b-4c47-8eef-321d99b83a18",
   "metadata": {},
   "outputs": [
    {
     "data": {
      "text/plain": [
       "array([7396, 6400, 8281, 8836, 7225])"
      ]
     },
     "execution_count": 31,
     "metadata": {},
     "output_type": "execute_result"
    }
   ],
   "source": [
    "maths**2"
   ]
  },
  {
   "cell_type": "code",
   "execution_count": 33,
   "id": "c6b21eed-9681-4bd5-8835-26bf60a4ab4c",
   "metadata": {},
   "outputs": [
    {
     "data": {
      "text/plain": [
       "(array([1.93449845, 1.90308999, 1.95904139, 1.97312785, 1.92941893]),\n",
       " array([6.42626475, 6.32192809, 6.50779464, 6.55458885, 6.40939094]),\n",
       " array([4.4543473 , 4.38202663, 4.51085951, 4.54329478, 4.44265126]))"
      ]
     },
     "execution_count": 33,
     "metadata": {},
     "output_type": "execute_result"
    }
   ],
   "source": [
    "np.log10(maths),np.log2(maths),np.log(maths)"
   ]
  },
  {
   "cell_type": "code",
   "execution_count": 37,
   "id": "0afc8e60-a85e-4b85-88a4-fe4ed65647af",
   "metadata": {},
   "outputs": [
    {
     "data": {
      "text/plain": [
       "(array([0.        , 0.5       , 0.70710678, 0.8660254 , 1.        ]),\n",
       " array([1.00000000e+00, 8.66025404e-01, 7.07106781e-01, 5.00000000e-01,\n",
       "        6.12323400e-17]))"
      ]
     },
     "execution_count": 37,
     "metadata": {},
     "output_type": "execute_result"
    }
   ],
   "source": [
    "angles = np.array([0,30,45,60,90])\n",
    "np.sin(np.radians(angles)),np.cos(np.radians(angles))"
   ]
  },
  {
   "cell_type": "code",
   "execution_count": 38,
   "id": "0fe59c43-a41c-4d25-9e97-2b19ad8e846b",
   "metadata": {},
   "outputs": [
    {
     "data": {
      "text/plain": [
       "array([8.94427191, 9.43398113, 8.83176087, 9.64365076, 9.79795897])"
      ]
     },
     "execution_count": 38,
     "metadata": {},
     "output_type": "execute_result"
    }
   ],
   "source": [
    "np.sqrt(physics)"
   ]
  }
 ],
 "metadata": {
  "kernelspec": {
   "display_name": "Python 3 (ipykernel)",
   "language": "python",
   "name": "python3"
  },
  "language_info": {
   "codemirror_mode": {
    "name": "ipython",
    "version": 3
   },
   "file_extension": ".py",
   "mimetype": "text/x-python",
   "name": "python",
   "nbconvert_exporter": "python",
   "pygments_lexer": "ipython3",
   "version": "3.12.4"
  }
 },
 "nbformat": 4,
 "nbformat_minor": 5
}
