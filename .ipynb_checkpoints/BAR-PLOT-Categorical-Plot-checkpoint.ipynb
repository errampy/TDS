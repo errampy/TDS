{
 "cells": [
  {
   "cell_type": "code",
   "execution_count": 4,
   "id": "35f4be09-d9a7-4529-be4f-0491f2459798",
   "metadata": {},
   "outputs": [],
   "source": [
    "# BAR and COLUMN Charts:\n"
   ]
  }
 ],
 "metadata": {
  "kernelspec": {
   "display_name": "Python 3 (ipykernel)",
   "language": "python",
   "name": "python3"
  },
  "language_info": {
   "codemirror_mode": {
    "name": "ipython",
    "version": 3
   },
   "file_extension": ".py",
   "mimetype": "text/x-python",
   "name": "python",
   "nbconvert_exporter": "python",
   "pygments_lexer": "ipython3",
   "version": "3.12.4"
  }
 },
 "nbformat": 4,
 "nbformat_minor": 5
}
