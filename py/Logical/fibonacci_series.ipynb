{
 "cells": [
  {
   "cell_type": "markdown",
   "id": "6f30fb72-1f63-4f3c-a4ee-475b8fc54445",
   "metadata": {},
   "source": [
    "# FABONACCI SERIES\n",
    "\n",
    "_In mathematics, the Fibonacci sequence is a sequence in which each number is the sum of the two numbers that precede it. Numbers that are part of the Fibonacci sequence are known as Fibonacci numbers, commonly denoted Fn . Many writers begin the sequence with 0 and 1, although some authors start it from 1 and 1[1][2] and some (as did Fibonacci) from 1 and 2. Starting from 0 and 1, the sequence begins_"
   ]
  },
  {
   "cell_type": "code",
   "execution_count": 2,
   "id": "6941626d-f414-4592-8b75-08ed897f79eb",
   "metadata": {},
   "outputs": [
    {
     "name": "stdout",
     "output_type": "stream",
     "text": [
      "10th fabonacci series:  [0, 1, 1, 2, 3, 5, 8, 13, 21, 34]\n"
     ]
    }
   ],
   "source": [
    "a = 0\n",
    "b = 1\n",
    "fab = [a,b]\n",
    "num = 10\n",
    "for i in range(2,num):\n",
    "    a = fab[-2]\n",
    "    b = fab[-1]\n",
    "    fab.append(a+b)\n",
    "print(f'{num}th fabonacci series: ',fab)"
   ]
  }
 ],
 "metadata": {
  "kernelspec": {
   "display_name": "Python 3 (ipykernel)",
   "language": "python",
   "name": "python3"
  },
  "language_info": {
   "codemirror_mode": {
    "name": "ipython",
    "version": 3
   },
   "file_extension": ".py",
   "mimetype": "text/x-python",
   "name": "python",
   "nbconvert_exporter": "python",
   "pygments_lexer": "ipython3",
   "version": "3.12.4"
  }
 },
 "nbformat": 4,
 "nbformat_minor": 5
}
