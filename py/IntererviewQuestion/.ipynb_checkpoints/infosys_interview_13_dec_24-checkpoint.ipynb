{
 "cells": [
  {
   "cell_type": "code",
   "execution_count": 3,
   "id": "e4c57ca5-e6db-43b2-991e-5187e384f89a",
   "metadata": {},
   "outputs": [
    {
     "name": "stdout",
     "output_type": "stream",
     "text": [
      "fre_list  [3, 2, 2, 1, 1, 1]\n"
     ]
    }
   ],
   "source": [
    "# write a program to find the number of frequecy of the given list\n",
    "num = [1,2,1,1,3,4,3,2,6,5] # output should be [3,2,2,1,1,1]\n",
    "fre_list = []\n",
    "element = []\n",
    "for i in num:\n",
    "    if i not in element:\n",
    "        freq = num.count(i)\n",
    "        fre_list.append(freq)\n",
    "        element.append(i)\n",
    "    else:\n",
    "        continue\n",
    "print('fre_list ',fre_list)"
   ]
  }
 ],
 "metadata": {
  "kernelspec": {
   "display_name": "Python 3 (ipykernel)",
   "language": "python",
   "name": "python3"
  },
  "language_info": {
   "codemirror_mode": {
    "name": "ipython",
    "version": 3
   },
   "file_extension": ".py",
   "mimetype": "text/x-python",
   "name": "python",
   "nbconvert_exporter": "python",
   "pygments_lexer": "ipython3",
   "version": "3.12.4"
  }
 },
 "nbformat": 4,
 "nbformat_minor": 5
}
